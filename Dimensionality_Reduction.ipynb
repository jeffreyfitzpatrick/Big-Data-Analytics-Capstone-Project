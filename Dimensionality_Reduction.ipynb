{
 "cells": [
  {
   "cell_type": "markdown",
   "metadata": {},
   "source": [
    "## **CIND 820 - Big Data Analytics Project**"
   ]
  },
  {
   "cell_type": "code",
   "execution_count": 25,
   "metadata": {},
   "outputs": [],
   "source": [
    "# Import necessary libraries\n",
    "import pandas as pd\n",
    "import numpy as np\n",
    "import seaborn as sns\n",
    "import matplotlib.pyplot as plt # to create the scree plot\n",
    "from sklearn.preprocessing import StandardScaler  # to standardize the features\n",
    "from sklearn.decomposition import PCA  # to apply PCA"
   ]
  },
  {
   "cell_type": "markdown",
   "metadata": {},
   "source": [
    "**Create a data frame of the Room Occupancy dataset. Display the names of the columns. Check the data types of the attributes. Run a summary statistics of the dataset.**"
   ]
  },
  {
   "cell_type": "code",
   "execution_count": 26,
   "metadata": {},
   "outputs": [
    {
     "data": {
      "text/html": [
       "<div>\n",
       "<style scoped>\n",
       "    .dataframe tbody tr th:only-of-type {\n",
       "        vertical-align: middle;\n",
       "    }\n",
       "\n",
       "    .dataframe tbody tr th {\n",
       "        vertical-align: top;\n",
       "    }\n",
       "\n",
       "    .dataframe thead th {\n",
       "        text-align: right;\n",
       "    }\n",
       "</style>\n",
       "<table border=\"1\" class=\"dataframe\">\n",
       "  <thead>\n",
       "    <tr style=\"text-align: right;\">\n",
       "      <th></th>\n",
       "      <th>Date</th>\n",
       "      <th>Time</th>\n",
       "      <th>S1_Temp</th>\n",
       "      <th>S2_Temp</th>\n",
       "      <th>S3_Temp</th>\n",
       "      <th>S4_Temp</th>\n",
       "      <th>S1_Light</th>\n",
       "      <th>S2_Light</th>\n",
       "      <th>S3_Light</th>\n",
       "      <th>S4_Light</th>\n",
       "      <th>S1_Sound</th>\n",
       "      <th>S2_Sound</th>\n",
       "      <th>S3_Sound</th>\n",
       "      <th>S4_Sound</th>\n",
       "      <th>S5_CO2</th>\n",
       "      <th>S5_CO2_Slope</th>\n",
       "      <th>S6_PIR</th>\n",
       "      <th>S7_PIR</th>\n",
       "      <th>Room_Occupancy_Count</th>\n",
       "    </tr>\n",
       "  </thead>\n",
       "  <tbody>\n",
       "    <tr>\n",
       "      <th>0</th>\n",
       "      <td>2017/12/22</td>\n",
       "      <td>10:49:41</td>\n",
       "      <td>24.94</td>\n",
       "      <td>24.75</td>\n",
       "      <td>24.56</td>\n",
       "      <td>25.38</td>\n",
       "      <td>121</td>\n",
       "      <td>34</td>\n",
       "      <td>53</td>\n",
       "      <td>40</td>\n",
       "      <td>0.08</td>\n",
       "      <td>0.19</td>\n",
       "      <td>0.06</td>\n",
       "      <td>0.06</td>\n",
       "      <td>390</td>\n",
       "      <td>0.769231</td>\n",
       "      <td>0</td>\n",
       "      <td>0</td>\n",
       "      <td>1</td>\n",
       "    </tr>\n",
       "    <tr>\n",
       "      <th>1</th>\n",
       "      <td>2017/12/22</td>\n",
       "      <td>10:50:12</td>\n",
       "      <td>24.94</td>\n",
       "      <td>24.75</td>\n",
       "      <td>24.56</td>\n",
       "      <td>25.44</td>\n",
       "      <td>121</td>\n",
       "      <td>33</td>\n",
       "      <td>53</td>\n",
       "      <td>40</td>\n",
       "      <td>0.93</td>\n",
       "      <td>0.05</td>\n",
       "      <td>0.06</td>\n",
       "      <td>0.06</td>\n",
       "      <td>390</td>\n",
       "      <td>0.646154</td>\n",
       "      <td>0</td>\n",
       "      <td>0</td>\n",
       "      <td>1</td>\n",
       "    </tr>\n",
       "    <tr>\n",
       "      <th>2</th>\n",
       "      <td>2017/12/22</td>\n",
       "      <td>10:50:42</td>\n",
       "      <td>25.00</td>\n",
       "      <td>24.75</td>\n",
       "      <td>24.50</td>\n",
       "      <td>25.44</td>\n",
       "      <td>121</td>\n",
       "      <td>34</td>\n",
       "      <td>53</td>\n",
       "      <td>40</td>\n",
       "      <td>0.43</td>\n",
       "      <td>0.11</td>\n",
       "      <td>0.08</td>\n",
       "      <td>0.06</td>\n",
       "      <td>390</td>\n",
       "      <td>0.519231</td>\n",
       "      <td>0</td>\n",
       "      <td>0</td>\n",
       "      <td>1</td>\n",
       "    </tr>\n",
       "    <tr>\n",
       "      <th>3</th>\n",
       "      <td>2017/12/22</td>\n",
       "      <td>10:51:13</td>\n",
       "      <td>25.00</td>\n",
       "      <td>24.75</td>\n",
       "      <td>24.56</td>\n",
       "      <td>25.44</td>\n",
       "      <td>121</td>\n",
       "      <td>34</td>\n",
       "      <td>53</td>\n",
       "      <td>40</td>\n",
       "      <td>0.41</td>\n",
       "      <td>0.10</td>\n",
       "      <td>0.10</td>\n",
       "      <td>0.09</td>\n",
       "      <td>390</td>\n",
       "      <td>0.388462</td>\n",
       "      <td>0</td>\n",
       "      <td>0</td>\n",
       "      <td>1</td>\n",
       "    </tr>\n",
       "    <tr>\n",
       "      <th>4</th>\n",
       "      <td>2017/12/22</td>\n",
       "      <td>10:51:44</td>\n",
       "      <td>25.00</td>\n",
       "      <td>24.75</td>\n",
       "      <td>24.56</td>\n",
       "      <td>25.44</td>\n",
       "      <td>121</td>\n",
       "      <td>34</td>\n",
       "      <td>54</td>\n",
       "      <td>40</td>\n",
       "      <td>0.18</td>\n",
       "      <td>0.06</td>\n",
       "      <td>0.06</td>\n",
       "      <td>0.06</td>\n",
       "      <td>390</td>\n",
       "      <td>0.253846</td>\n",
       "      <td>0</td>\n",
       "      <td>0</td>\n",
       "      <td>1</td>\n",
       "    </tr>\n",
       "  </tbody>\n",
       "</table>\n",
       "</div>"
      ],
      "text/plain": [
       "         Date      Time  S1_Temp  S2_Temp  S3_Temp  S4_Temp  S1_Light  \\\n",
       "0  2017/12/22  10:49:41    24.94    24.75    24.56    25.38       121   \n",
       "1  2017/12/22  10:50:12    24.94    24.75    24.56    25.44       121   \n",
       "2  2017/12/22  10:50:42    25.00    24.75    24.50    25.44       121   \n",
       "3  2017/12/22  10:51:13    25.00    24.75    24.56    25.44       121   \n",
       "4  2017/12/22  10:51:44    25.00    24.75    24.56    25.44       121   \n",
       "\n",
       "   S2_Light  S3_Light  S4_Light  S1_Sound  S2_Sound  S3_Sound  S4_Sound  \\\n",
       "0        34        53        40      0.08      0.19      0.06      0.06   \n",
       "1        33        53        40      0.93      0.05      0.06      0.06   \n",
       "2        34        53        40      0.43      0.11      0.08      0.06   \n",
       "3        34        53        40      0.41      0.10      0.10      0.09   \n",
       "4        34        54        40      0.18      0.06      0.06      0.06   \n",
       "\n",
       "   S5_CO2  S5_CO2_Slope  S6_PIR  S7_PIR  Room_Occupancy_Count  \n",
       "0     390      0.769231       0       0                     1  \n",
       "1     390      0.646154       0       0                     1  \n",
       "2     390      0.519231       0       0                     1  \n",
       "3     390      0.388462       0       0                     1  \n",
       "4     390      0.253846       0       0                     1  "
      ]
     },
     "execution_count": 26,
     "metadata": {},
     "output_type": "execute_result"
    }
   ],
   "source": [
    "# Read the CSV file into a data frame called Occupancy\n",
    "Occupancy = pd.read_csv('Occupancy_Estimation.csv')\n",
    "\n",
    "# Display the first five records of the data frame\n",
    "Occupancy.head()"
   ]
  },
  {
   "cell_type": "code",
   "execution_count": 3,
   "metadata": {},
   "outputs": [
    {
     "name": "stdout",
     "output_type": "stream",
     "text": [
      "Column Names: Index(['Date', 'Time', 'S1_Temp', 'S2_Temp', 'S3_Temp', 'S4_Temp', 'S1_Light',\n",
      "       'S2_Light', 'S3_Light', 'S4_Light', 'S1_Sound', 'S2_Sound', 'S3_Sound',\n",
      "       'S4_Sound', 'S5_CO2', 'S5_CO2_Slope', 'S6_PIR', 'S7_PIR',\n",
      "       'Room_Occupancy_Count'],\n",
      "      dtype='object')\n"
     ]
    }
   ],
   "source": [
    "# Get the column names\n",
    "print(\"Column Names:\", Occupancy.columns)"
   ]
  },
  {
   "cell_type": "code",
   "execution_count": 4,
   "metadata": {},
   "outputs": [
    {
     "name": "stdout",
     "output_type": "stream",
     "text": [
      "\n",
      "Data Types of Each Column:\n",
      "Date                     object\n",
      "Time                     object\n",
      "S1_Temp                 float64\n",
      "S2_Temp                 float64\n",
      "S3_Temp                 float64\n",
      "S4_Temp                 float64\n",
      "S1_Light                  int64\n",
      "S2_Light                  int64\n",
      "S3_Light                  int64\n",
      "S4_Light                  int64\n",
      "S1_Sound                float64\n",
      "S2_Sound                float64\n",
      "S3_Sound                float64\n",
      "S4_Sound                float64\n",
      "S5_CO2                    int64\n",
      "S5_CO2_Slope            float64\n",
      "S6_PIR                    int64\n",
      "S7_PIR                    int64\n",
      "Room_Occupancy_Count      int64\n",
      "dtype: object\n"
     ]
    }
   ],
   "source": [
    "# Get the data types of each column\n",
    "print(\"\\nData Types of Each Column:\")\n",
    "print(Occupancy.dtypes)"
   ]
  },
  {
   "cell_type": "code",
   "execution_count": 5,
   "metadata": {},
   "outputs": [
    {
     "name": "stdout",
     "output_type": "stream",
     "text": [
      "Summary Statistics:\n",
      "            S1_Temp       S2_Temp       S3_Temp       S4_Temp      S1_Light  \\\n",
      "count  10129.000000  10129.000000  10129.000000  10129.000000  10129.000000   \n",
      "mean      25.454012     25.546059     25.056621     25.754125     25.445059   \n",
      "std        0.351351      0.586325      0.427283      0.356434     51.011264   \n",
      "min       24.940000     24.750000     24.440000     24.940000      0.000000   \n",
      "25%       25.190000     25.190000     24.690000     25.440000      0.000000   \n",
      "50%       25.380000     25.380000     24.940000     25.750000      0.000000   \n",
      "75%       25.630000     25.630000     25.380000     26.000000     12.000000   \n",
      "max       26.380000     29.000000     26.190000     26.560000    165.000000   \n",
      "\n",
      "          S2_Light      S3_Light      S4_Light      S1_Sound      S2_Sound  \\\n",
      "count  10129.00000  10129.000000  10129.000000  10129.000000  10129.000000   \n",
      "mean      26.01629     34.248494     13.220259      0.168178      0.120066   \n",
      "std       67.30417     58.400744     19.602219      0.316709      0.266503   \n",
      "min        0.00000      0.000000      0.000000      0.060000      0.040000   \n",
      "25%        0.00000      0.000000      0.000000      0.070000      0.050000   \n",
      "50%        0.00000      0.000000      0.000000      0.080000      0.050000   \n",
      "75%       14.00000     50.000000     22.000000      0.080000      0.060000   \n",
      "max      258.00000    280.000000     74.000000      3.880000      3.440000   \n",
      "\n",
      "           S3_Sound      S4_Sound        S5_CO2  S5_CO2_Slope        S6_PIR  \\\n",
      "count  10129.000000  10129.000000  10129.000000  10129.000000  10129.000000   \n",
      "mean       0.158119      0.103840    460.860401     -0.004830      0.090137   \n",
      "std        0.413637      0.120683    199.964940      1.164990      0.286392   \n",
      "min        0.040000      0.050000    345.000000     -6.296154      0.000000   \n",
      "25%        0.060000      0.060000    355.000000     -0.046154      0.000000   \n",
      "50%        0.060000      0.080000    360.000000      0.000000      0.000000   \n",
      "75%        0.070000      0.100000    465.000000      0.000000      0.000000   \n",
      "max        3.670000      3.400000   1270.000000      8.980769      1.000000   \n",
      "\n",
      "             S7_PIR  Room_Occupancy_Count  \n",
      "count  10129.000000          10129.000000  \n",
      "mean       0.079574              0.398559  \n",
      "std        0.270645              0.893633  \n",
      "min        0.000000              0.000000  \n",
      "25%        0.000000              0.000000  \n",
      "50%        0.000000              0.000000  \n",
      "75%        0.000000              0.000000  \n",
      "max        1.000000              3.000000  \n"
     ]
    }
   ],
   "source": [
    "# Get the summary statistics\n",
    "print(\"Summary Statistics:\")\n",
    "print(Occupancy.describe())"
   ]
  },
  {
   "cell_type": "markdown",
   "metadata": {},
   "source": [
    "**Standardize the features**"
   ]
  },
  {
   "cell_type": "code",
   "execution_count": 27,
   "metadata": {},
   "outputs": [],
   "source": [
    "# Create the scaler\n",
    "scaler = StandardScaler()   # mean = 0 and standard deviation = 1\n",
    "\n",
    "# Transform the numeric data\n",
    "X = pd.DataFrame(scaler.fit_transform(Occupancy.iloc[:, 2:16]))\n",
    "\n",
    "# Add the binary features\n",
    "X['S6_PIR'] = Occupancy['S6_PIR']\n",
    "X['S7_PIR'] = Occupancy['S7_PIR']\n",
    "\n",
    "# Add the column names for the features\n",
    "X.columns = ['S1_Temp', 'S2_Temp', 'S3_Temp', 'S4_Temp',\n",
    "             'S1_Light', 'S2_Light', 'S3_Light', 'S4_Light',\n",
    "             'S1_Sound', 'S2_Sound', 'S3_Sound', 'S4_Sound',\n",
    "             'S5_CO2', 'S5_CO2_Slope', 'S6_PIR', 'S7_PIR']\n",
    "\n",
    "# Define the target variable\n",
    "y = Occupancy['Room_Occupancy_Count']"
   ]
  },
  {
   "cell_type": "code",
   "execution_count": 7,
   "metadata": {},
   "outputs": [
    {
     "data": {
      "text/html": [
       "<div>\n",
       "<style scoped>\n",
       "    .dataframe tbody tr th:only-of-type {\n",
       "        vertical-align: middle;\n",
       "    }\n",
       "\n",
       "    .dataframe tbody tr th {\n",
       "        vertical-align: top;\n",
       "    }\n",
       "\n",
       "    .dataframe thead th {\n",
       "        text-align: right;\n",
       "    }\n",
       "</style>\n",
       "<table border=\"1\" class=\"dataframe\">\n",
       "  <thead>\n",
       "    <tr style=\"text-align: right;\">\n",
       "      <th></th>\n",
       "      <th>S1_Temp</th>\n",
       "      <th>S2_Temp</th>\n",
       "      <th>S3_Temp</th>\n",
       "      <th>S4_Temp</th>\n",
       "      <th>S1_Light</th>\n",
       "      <th>S2_Light</th>\n",
       "      <th>S3_Light</th>\n",
       "      <th>S4_Light</th>\n",
       "      <th>S1_Sound</th>\n",
       "      <th>S2_Sound</th>\n",
       "      <th>S3_Sound</th>\n",
       "      <th>S4_Sound</th>\n",
       "      <th>S5_CO2</th>\n",
       "      <th>S5_CO2_Slope</th>\n",
       "      <th>S6_PIR</th>\n",
       "      <th>S7_PIR</th>\n",
       "    </tr>\n",
       "  </thead>\n",
       "  <tbody>\n",
       "    <tr>\n",
       "      <th>0</th>\n",
       "      <td>-1.463033</td>\n",
       "      <td>-1.357775</td>\n",
       "      <td>-1.162334</td>\n",
       "      <td>-1.049684</td>\n",
       "      <td>1.873305</td>\n",
       "      <td>0.118627</td>\n",
       "      <td>0.321099</td>\n",
       "      <td>1.366226</td>\n",
       "      <td>-0.278432</td>\n",
       "      <td>0.262426</td>\n",
       "      <td>-0.237223</td>\n",
       "      <td>-0.363288</td>\n",
       "      <td>-0.354382</td>\n",
       "      <td>0.664469</td>\n",
       "      <td>0</td>\n",
       "      <td>0</td>\n",
       "    </tr>\n",
       "    <tr>\n",
       "      <th>1</th>\n",
       "      <td>-1.463033</td>\n",
       "      <td>-1.357775</td>\n",
       "      <td>-1.162334</td>\n",
       "      <td>-0.881342</td>\n",
       "      <td>1.873305</td>\n",
       "      <td>0.103769</td>\n",
       "      <td>0.321099</td>\n",
       "      <td>1.366226</td>\n",
       "      <td>2.405552</td>\n",
       "      <td>-0.262923</td>\n",
       "      <td>-0.237223</td>\n",
       "      <td>-0.363288</td>\n",
       "      <td>-0.354382</td>\n",
       "      <td>0.558817</td>\n",
       "      <td>0</td>\n",
       "      <td>0</td>\n",
       "    </tr>\n",
       "    <tr>\n",
       "      <th>2</th>\n",
       "      <td>-1.292255</td>\n",
       "      <td>-1.357775</td>\n",
       "      <td>-1.302764</td>\n",
       "      <td>-0.881342</td>\n",
       "      <td>1.873305</td>\n",
       "      <td>0.118627</td>\n",
       "      <td>0.321099</td>\n",
       "      <td>1.366226</td>\n",
       "      <td>0.826738</td>\n",
       "      <td>-0.037773</td>\n",
       "      <td>-0.188869</td>\n",
       "      <td>-0.363288</td>\n",
       "      <td>-0.354382</td>\n",
       "      <td>0.449864</td>\n",
       "      <td>0</td>\n",
       "      <td>0</td>\n",
       "    </tr>\n",
       "    <tr>\n",
       "      <th>3</th>\n",
       "      <td>-1.292255</td>\n",
       "      <td>-1.357775</td>\n",
       "      <td>-1.162334</td>\n",
       "      <td>-0.881342</td>\n",
       "      <td>1.873305</td>\n",
       "      <td>0.118627</td>\n",
       "      <td>0.321099</td>\n",
       "      <td>1.366226</td>\n",
       "      <td>0.763585</td>\n",
       "      <td>-0.075298</td>\n",
       "      <td>-0.140515</td>\n",
       "      <td>-0.114690</td>\n",
       "      <td>-0.354382</td>\n",
       "      <td>0.337609</td>\n",
       "      <td>0</td>\n",
       "      <td>0</td>\n",
       "    </tr>\n",
       "    <tr>\n",
       "      <th>4</th>\n",
       "      <td>-1.292255</td>\n",
       "      <td>-1.357775</td>\n",
       "      <td>-1.162334</td>\n",
       "      <td>-0.881342</td>\n",
       "      <td>1.873305</td>\n",
       "      <td>0.118627</td>\n",
       "      <td>0.338223</td>\n",
       "      <td>1.366226</td>\n",
       "      <td>0.037331</td>\n",
       "      <td>-0.225398</td>\n",
       "      <td>-0.237223</td>\n",
       "      <td>-0.363288</td>\n",
       "      <td>-0.354382</td>\n",
       "      <td>0.222053</td>\n",
       "      <td>0</td>\n",
       "      <td>0</td>\n",
       "    </tr>\n",
       "  </tbody>\n",
       "</table>\n",
       "</div>"
      ],
      "text/plain": [
       "    S1_Temp   S2_Temp   S3_Temp   S4_Temp  S1_Light  S2_Light  S3_Light  \\\n",
       "0 -1.463033 -1.357775 -1.162334 -1.049684  1.873305  0.118627  0.321099   \n",
       "1 -1.463033 -1.357775 -1.162334 -0.881342  1.873305  0.103769  0.321099   \n",
       "2 -1.292255 -1.357775 -1.302764 -0.881342  1.873305  0.118627  0.321099   \n",
       "3 -1.292255 -1.357775 -1.162334 -0.881342  1.873305  0.118627  0.321099   \n",
       "4 -1.292255 -1.357775 -1.162334 -0.881342  1.873305  0.118627  0.338223   \n",
       "\n",
       "   S4_Light  S1_Sound  S2_Sound  S3_Sound  S4_Sound    S5_CO2  S5_CO2_Slope  \\\n",
       "0  1.366226 -0.278432  0.262426 -0.237223 -0.363288 -0.354382      0.664469   \n",
       "1  1.366226  2.405552 -0.262923 -0.237223 -0.363288 -0.354382      0.558817   \n",
       "2  1.366226  0.826738 -0.037773 -0.188869 -0.363288 -0.354382      0.449864   \n",
       "3  1.366226  0.763585 -0.075298 -0.140515 -0.114690 -0.354382      0.337609   \n",
       "4  1.366226  0.037331 -0.225398 -0.237223 -0.363288 -0.354382      0.222053   \n",
       "\n",
       "   S6_PIR  S7_PIR  \n",
       "0       0       0  \n",
       "1       0       0  \n",
       "2       0       0  \n",
       "3       0       0  \n",
       "4       0       0  "
      ]
     },
     "execution_count": 7,
     "metadata": {},
     "output_type": "execute_result"
    }
   ],
   "source": [
    "X.head()"
   ]
  },
  {
   "cell_type": "markdown",
   "metadata": {},
   "source": [
    "**Check the Co-relation between featrues without PCA**"
   ]
  },
  {
   "cell_type": "code",
   "execution_count": 28,
   "metadata": {},
   "outputs": [
    {
     "data": {
      "text/plain": [
       "<Axes: >"
      ]
     },
     "execution_count": 28,
     "metadata": {},
     "output_type": "execute_result"
    },
    {
     "data": {
      "image/png": "[encoded data removed]",
      "text/plain": [
       "<Figure size 640x480 with 2 Axes>"
      ]
     },
     "metadata": {},
     "output_type": "display_data"
    }
   ],
   "source": [
    "# Check the Co-relation between features without PCA\n",
    "sns.heatmap(X.corr())"
   ]
  },
  {
   "cell_type": "markdown",
   "metadata": {},
   "source": [
    "Based on the above heatmap, we can see that several pairs of features have moderate to highter correlation."
   ]
  },
  {
   "cell_type": "markdown",
   "metadata": {},
   "source": [
    "**Applying Principal Component Analysis**\n",
    "\n",
    "I've chosen 5 as the number of principal components we want in our final dataset."
   ]
  },
  {
   "cell_type": "code",
   "execution_count": 40,
   "metadata": {},
   "outputs": [
    {
     "data": {
      "image/png": "[encoded data removed]",
      "text/plain": [
       "<Figure size 1000x600 with 1 Axes>"
      ]
     },
     "metadata": {},
     "output_type": "display_data"
    }
   ],
   "source": [
    "# Plotting cumulative explained variance to choose the optimal number of components\n",
    "pca_full = PCA().fit(X)\n",
    "plt.figure(figsize=(10, 6)) \n",
    "plt.plot(np.cumsum(pca_full.explained_variance_ratio_), marker='o')\n",
    "plt.xlabel('Number of Components')\n",
    "plt.ylabel('Cumulative Explained Variance')\n",
    "plt.title('Explained Variance vs. Number of Components')\n",
    "plt.grid()\n",
    "plt.show()"
   ]
  },
  {
   "cell_type": "code",
   "execution_count": 41,
   "metadata": {},
   "outputs": [
    {
     "data": {
      "text/plain": [
       "array([0.53420654, 0.6703093 , 0.75417075, 0.8079521 , 0.84815055,\n",
       "       0.88157964, 0.91392404, 0.93691635, 0.9561106 , 0.97180268,\n",
       "       0.98081481, 0.98773636, 0.99309256, 0.99655362, 0.99851644,\n",
       "       1.        ])"
      ]
     },
     "execution_count": 41,
     "metadata": {},
     "output_type": "execute_result"
    }
   ],
   "source": [
    "np.cumsum(pca_full.explained_variance_ratio_)"
   ]
  },
  {
   "cell_type": "code",
   "execution_count": 43,
   "metadata": {},
   "outputs": [
    {
     "data": {
      "text/html": [
       "<div>\n",
       "<style scoped>\n",
       "    .dataframe tbody tr th:only-of-type {\n",
       "        vertical-align: middle;\n",
       "    }\n",
       "\n",
       "    .dataframe tbody tr th {\n",
       "        vertical-align: top;\n",
       "    }\n",
       "\n",
       "    .dataframe thead th {\n",
       "        text-align: right;\n",
       "    }\n",
       "</style>\n",
       "<table border=\"1\" class=\"dataframe\">\n",
       "  <thead>\n",
       "    <tr style=\"text-align: right;\">\n",
       "      <th></th>\n",
       "      <th>PC1</th>\n",
       "      <th>PC2</th>\n",
       "      <th>PC3</th>\n",
       "      <th>PC4</th>\n",
       "      <th>PC5</th>\n",
       "      <th>PC6</th>\n",
       "      <th>PC7</th>\n",
       "    </tr>\n",
       "  </thead>\n",
       "  <tbody>\n",
       "    <tr>\n",
       "      <th>0</th>\n",
       "      <td>-0.686113</td>\n",
       "      <td>2.102322</td>\n",
       "      <td>1.957106</td>\n",
       "      <td>0.191789</td>\n",
       "      <td>-0.101719</td>\n",
       "      <td>-0.803158</td>\n",
       "      <td>-0.143256</td>\n",
       "    </tr>\n",
       "    <tr>\n",
       "      <th>1</th>\n",
       "      <td>-0.131358</td>\n",
       "      <td>2.522851</td>\n",
       "      <td>1.541169</td>\n",
       "      <td>0.622188</td>\n",
       "      <td>0.541418</td>\n",
       "      <td>-1.301222</td>\n",
       "      <td>2.233778</td>\n",
       "    </tr>\n",
       "    <tr>\n",
       "      <th>2</th>\n",
       "      <td>-0.450642</td>\n",
       "      <td>2.154163</td>\n",
       "      <td>1.734071</td>\n",
       "      <td>0.452159</td>\n",
       "      <td>0.136148</td>\n",
       "      <td>-1.086528</td>\n",
       "      <td>0.864504</td>\n",
       "    </tr>\n",
       "    <tr>\n",
       "      <th>3</th>\n",
       "      <td>-0.383169</td>\n",
       "      <td>2.119162</td>\n",
       "      <td>1.594852</td>\n",
       "      <td>0.562530</td>\n",
       "      <td>0.021398</td>\n",
       "      <td>-1.083995</td>\n",
       "      <td>0.785992</td>\n",
       "    </tr>\n",
       "    <tr>\n",
       "      <th>4</th>\n",
       "      <td>-0.683429</td>\n",
       "      <td>1.742131</td>\n",
       "      <td>1.870580</td>\n",
       "      <td>0.427451</td>\n",
       "      <td>-0.191480</td>\n",
       "      <td>-1.099345</td>\n",
       "      <td>0.302282</td>\n",
       "    </tr>\n",
       "  </tbody>\n",
       "</table>\n",
       "</div>"
      ],
      "text/plain": [
       "        PC1       PC2       PC3       PC4       PC5       PC6       PC7\n",
       "0 -0.686113  2.102322  1.957106  0.191789 -0.101719 -0.803158 -0.143256\n",
       "1 -0.131358  2.522851  1.541169  0.622188  0.541418 -1.301222  2.233778\n",
       "2 -0.450642  2.154163  1.734071  0.452159  0.136148 -1.086528  0.864504\n",
       "3 -0.383169  2.119162  1.594852  0.562530  0.021398 -1.083995  0.785992\n",
       "4 -0.683429  1.742131  1.870580  0.427451 -0.191480 -1.099345  0.302282"
      ]
     },
     "execution_count": 43,
     "metadata": {},
     "output_type": "execute_result"
    }
   ],
   "source": [
    "# Applying PCA\n",
    "# Taking no. of Principal Components as 7\n",
    "pca = PCA(n_components = 7)\n",
    "pca.fit(X)\n",
    "data_pca = pca.transform(X)\n",
    "data_pca = pd.DataFrame(data_pca,columns=['PC1','PC2','PC3','PC4','PC5', 'PC6', 'PC7'])\n",
    "data_pca.head()"
   ]
  },
  {
   "cell_type": "markdown",
   "metadata": {},
   "source": [
    "**Create the Scree Plot**"
   ]
  },
  {
   "cell_type": "code",
   "execution_count": 44,
   "metadata": {},
   "outputs": [
    {
     "name": "stdout",
     "output_type": "stream",
     "text": [
      "[0.53420654 0.13610276 0.08386145 0.05378135 0.04019845 0.0334291\n",
      " 0.0323444 ]\n"
     ]
    }
   ],
   "source": [
    "# Calculate the percentage of total variance explained by each principal component\n",
    "print(pca.explained_variance_ratio_)"
   ]
  },
  {
   "cell_type": "markdown",
   "metadata": {},
   "source": [
    "- The first principal component explains **53.42%** of the total variation in the dataset.\n",
    "- The second principal component explains **13.61** of the total variation in the dataset.\n",
    "- The third principal component explains **8.39%** of the total variation in the dataset.\n",
    "- The fourth principal component explains **5.38%** of the total variation in the dataset.\n",
    "- The fifth principal component explains **4.02%** of the total variation in the dataset.\n",
    "- The sixth principal component explains **3.34%** of the total variation in the dataset.\n",
    "- The seventh principal component explains **3.23%** of the total variation in the dataset."
   ]
  },
  {
   "cell_type": "code",
   "execution_count": 45,
   "metadata": {},
   "outputs": [
    {
     "data": {
      "image/png": "[encoded data removed]",
      "text/plain": [
       "<Figure size 640x480 with 1 Axes>"
      ]
     },
     "metadata": {},
     "output_type": "display_data"
    }
   ],
   "source": [
    "# Plot the scree plot\n",
    "PC_values = np.arange(pca.n_components_) + 1\n",
    "plt.plot(PC_values, pca.explained_variance_ratio_, 'o-', linewidth=2, color='blue')\n",
    "plt.title('Scree Plot')\n",
    "plt.xlabel('Principal Component')\n",
    "plt.ylabel('Variance Explained')\n",
    "plt.show()"
   ]
  },
  {
   "cell_type": "code",
   "execution_count": 46,
   "metadata": {},
   "outputs": [
    {
     "name": "stdout",
     "output_type": "stream",
     "text": [
      "                   PC1       PC2\n",
      "S1_Temp       0.311282 -0.323016\n",
      "S2_Temp       0.299695 -0.197385\n",
      "S3_Temp       0.299219 -0.356311\n",
      "S4_Temp       0.278824 -0.324778\n",
      "S1_Light      0.318130  0.107028\n",
      "S2_Light      0.291981  0.147959\n",
      "S3_Light      0.311904  0.064052\n",
      "S4_Light      0.177232  0.113372\n",
      "S1_Sound      0.241923  0.253501\n",
      "S2_Sound      0.230842  0.302862\n",
      "S3_Sound      0.239889  0.238537\n",
      "S4_Sound      0.219939  0.311745\n",
      "S5_CO2        0.287106 -0.296635\n",
      "S5_CO2_Slope  0.150390  0.415337\n",
      "S6_PIR        0.063995  0.042659\n",
      "S7_PIR        0.063087  0.039614\n"
     ]
    }
   ],
   "source": [
    "# Display feature contributions (loadings) for the first two principal components\n",
    "pca = PCA(n_components=2)\n",
    "pca.fit(X)\n",
    "\n",
    "feature_names = ['S1_Temp', 'S2_Temp', 'S3_Temp', 'S4_Temp',\n",
    "             'S1_Light', 'S2_Light', 'S3_Light', 'S4_Light',\n",
    "             'S1_Sound', 'S2_Sound', 'S3_Sound', 'S4_Sound',\n",
    "             'S5_CO2', 'S5_CO2_Slope', 'S6_PIR', 'S7_PIR']\n",
    "\n",
    "\n",
    "loadings = pd.DataFrame(pca.components_.T, columns=['PC1', 'PC2'], index=feature_names)\n",
    "print(loadings)"
   ]
  },
  {
   "cell_type": "code",
   "execution_count": 36,
   "metadata": {},
   "outputs": [
    {
     "data": {
      "text/plain": [
       "S1_Light    0.318130\n",
       "S3_Light    0.311904\n",
       "S1_Temp     0.311282\n",
       "S2_Temp     0.299695\n",
       "S3_Temp     0.299219\n",
       "Name: PC1, dtype: float64"
      ]
     },
     "execution_count": 36,
     "metadata": {},
     "output_type": "execute_result"
    }
   ],
   "source": [
    "loadings['PC1'].nlargest(5)"
   ]
  },
  {
   "cell_type": "code",
   "execution_count": 37,
   "metadata": {},
   "outputs": [
    {
     "data": {
      "text/plain": [
       "S7_PIR          0.063087\n",
       "S6_PIR          0.063995\n",
       "S5_CO2_Slope    0.150390\n",
       "S4_Light        0.177232\n",
       "S4_Sound        0.219939\n",
       "Name: PC1, dtype: float64"
      ]
     },
     "execution_count": 37,
     "metadata": {},
     "output_type": "execute_result"
    }
   ],
   "source": [
    "loadings['PC1'].nsmallest(5)"
   ]
  },
  {
   "cell_type": "code",
   "execution_count": 38,
   "metadata": {},
   "outputs": [
    {
     "data": {
      "text/plain": [
       "S5_CO2_Slope    0.415337\n",
       "S4_Sound        0.311745\n",
       "S2_Sound        0.302862\n",
       "S1_Sound        0.253501\n",
       "S3_Sound        0.238537\n",
       "Name: PC2, dtype: float64"
      ]
     },
     "execution_count": 38,
     "metadata": {},
     "output_type": "execute_result"
    }
   ],
   "source": [
    "loadings['PC2'].nlargest(5)"
   ]
  },
  {
   "cell_type": "code",
   "execution_count": 39,
   "metadata": {},
   "outputs": [
    {
     "data": {
      "text/plain": [
       "S3_Temp   -0.356311\n",
       "S4_Temp   -0.324778\n",
       "S1_Temp   -0.323016\n",
       "S5_CO2    -0.296635\n",
       "S2_Temp   -0.197385\n",
       "Name: PC2, dtype: float64"
      ]
     },
     "execution_count": 39,
     "metadata": {},
     "output_type": "execute_result"
    }
   ],
   "source": [
    "loadings['PC2'].nsmallest(5)"
   ]
  },
  {
   "cell_type": "markdown",
   "metadata": {},
   "source": [
    "**Checking Co-relation between features after PCA**"
   ]
  },
  {
   "cell_type": "code",
   "execution_count": 47,
   "metadata": {},
   "outputs": [
    {
     "data": {
      "text/plain": [
       "<Axes: >"
      ]
     },
     "execution_count": 47,
     "metadata": {},
     "output_type": "execute_result"
    },
    {
     "data": {
      "image/png": "[encoded data removed]",
      "text/plain": [
       "<Figure size 640x480 with 2 Axes>"
      ]
     },
     "metadata": {},
     "output_type": "display_data"
    }
   ],
   "source": [
    "#Checking Co-relation between features after PCA\n",
    "sns.heatmap(data_pca.corr())"
   ]
  },
  {
   "cell_type": "markdown",
   "metadata": {},
   "source": [
    "Based on the above heatmap, there is no correlation between the principal components (PC1, PC2, PC3, PC4, and PC5)."
   ]
  },
  {
   "cell_type": "code",
   "execution_count": 48,
   "metadata": {},
   "outputs": [
    {
     "data": {
      "text/html": [
       "<div>\n",
       "<style scoped>\n",
       "    .dataframe tbody tr th:only-of-type {\n",
       "        vertical-align: middle;\n",
       "    }\n",
       "\n",
       "    .dataframe tbody tr th {\n",
       "        vertical-align: top;\n",
       "    }\n",
       "\n",
       "    .dataframe thead th {\n",
       "        text-align: right;\n",
       "    }\n",
       "</style>\n",
       "<table border=\"1\" class=\"dataframe\">\n",
       "  <thead>\n",
       "    <tr style=\"text-align: right;\">\n",
       "      <th></th>\n",
       "      <th>PC1</th>\n",
       "      <th>PC2</th>\n",
       "      <th>PC3</th>\n",
       "      <th>PC4</th>\n",
       "      <th>PC5</th>\n",
       "      <th>PC6</th>\n",
       "      <th>PC7</th>\n",
       "      <th>Room_Occupancy_Count</th>\n",
       "    </tr>\n",
       "  </thead>\n",
       "  <tbody>\n",
       "    <tr>\n",
       "      <th>0</th>\n",
       "      <td>-0.686113</td>\n",
       "      <td>2.102322</td>\n",
       "      <td>1.957106</td>\n",
       "      <td>0.191789</td>\n",
       "      <td>-0.101719</td>\n",
       "      <td>-0.803158</td>\n",
       "      <td>-0.143256</td>\n",
       "      <td>1</td>\n",
       "    </tr>\n",
       "    <tr>\n",
       "      <th>1</th>\n",
       "      <td>-0.131358</td>\n",
       "      <td>2.522851</td>\n",
       "      <td>1.541169</td>\n",
       "      <td>0.622188</td>\n",
       "      <td>0.541418</td>\n",
       "      <td>-1.301222</td>\n",
       "      <td>2.233778</td>\n",
       "      <td>1</td>\n",
       "    </tr>\n",
       "    <tr>\n",
       "      <th>2</th>\n",
       "      <td>-0.450642</td>\n",
       "      <td>2.154163</td>\n",
       "      <td>1.734071</td>\n",
       "      <td>0.452159</td>\n",
       "      <td>0.136148</td>\n",
       "      <td>-1.086528</td>\n",
       "      <td>0.864504</td>\n",
       "      <td>1</td>\n",
       "    </tr>\n",
       "    <tr>\n",
       "      <th>3</th>\n",
       "      <td>-0.383169</td>\n",
       "      <td>2.119162</td>\n",
       "      <td>1.594852</td>\n",
       "      <td>0.562530</td>\n",
       "      <td>0.021398</td>\n",
       "      <td>-1.083995</td>\n",
       "      <td>0.785992</td>\n",
       "      <td>1</td>\n",
       "    </tr>\n",
       "    <tr>\n",
       "      <th>4</th>\n",
       "      <td>-0.683429</td>\n",
       "      <td>1.742131</td>\n",
       "      <td>1.870580</td>\n",
       "      <td>0.427451</td>\n",
       "      <td>-0.191480</td>\n",
       "      <td>-1.099345</td>\n",
       "      <td>0.302282</td>\n",
       "      <td>1</td>\n",
       "    </tr>\n",
       "  </tbody>\n",
       "</table>\n",
       "</div>"
      ],
      "text/plain": [
       "        PC1       PC2       PC3       PC4       PC5       PC6       PC7  \\\n",
       "0 -0.686113  2.102322  1.957106  0.191789 -0.101719 -0.803158 -0.143256   \n",
       "1 -0.131358  2.522851  1.541169  0.622188  0.541418 -1.301222  2.233778   \n",
       "2 -0.450642  2.154163  1.734071  0.452159  0.136148 -1.086528  0.864504   \n",
       "3 -0.383169  2.119162  1.594852  0.562530  0.021398 -1.083995  0.785992   \n",
       "4 -0.683429  1.742131  1.870580  0.427451 -0.191480 -1.099345  0.302282   \n",
       "\n",
       "   Room_Occupancy_Count  \n",
       "0                     1  \n",
       "1                     1  \n",
       "2                     1  \n",
       "3                     1  \n",
       "4                     1  "
      ]
     },
     "execution_count": 48,
     "metadata": {},
     "output_type": "execute_result"
    }
   ],
   "source": [
    "# Add the Room_Occupancy_Count to the reduced dataset\n",
    "data_pca['Room_Occupancy_Count'] = y\n",
    "data_pca.head()"
   ]
  },
  {
   "cell_type": "code",
   "execution_count": 49,
   "metadata": {},
   "outputs": [],
   "source": [
    "# Export CSV to working directory\n",
    "data_pca.to_csv('pca.csv')"
   ]
  }
 ],
 "metadata": {
  "kernelspec": {
   "display_name": "Python 3",
   "language": "python",
   "name": "python3"
  },
  "language_info": {
   "codemirror_mode": {
    "name": "ipython",
    "version": 3
   },
   "file_extension": ".py",
   "mimetype": "text/x-python",
   "name": "python",
   "nbconvert_exporter": "python",
   "pygments_lexer": "ipython3",
   "version": "3.12.1"
  }
 },
 "nbformat": 4,
 "nbformat_minor": 2
}
