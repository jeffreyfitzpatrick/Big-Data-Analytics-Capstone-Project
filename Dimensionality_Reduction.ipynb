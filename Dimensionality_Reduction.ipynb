{
 "cells": [
  {
   "cell_type": "markdown",
   "metadata": {},
   "source": [
    "## **CIND 820 - Big Data Analytics Project**"
   ]
  },
  {
   "cell_type": "code",
   "execution_count": 43,
   "metadata": {},
   "outputs": [],
   "source": [
    "# Import necessary libraries\n",
    "import pandas as pd\n",
    "import numpy as np\n",
    "import seaborn as sns\n",
    "import matplotlib.pyplot as plt # to create the scree plot\n",
    "from sklearn.preprocessing import StandardScaler  # to standardize the features\n",
    "from sklearn.decomposition import PCA  # to apply PCA"
   ]
  },
  {
   "cell_type": "markdown",
   "metadata": {},
   "source": [
    "**Create a data frame of the Room Occupancy dataset from UC Irvine Machine Learning Repository. Display the names of the columns. Check the data types of the attributes. Run a summary statistics of the dataset.**"
   ]
  },
  {
   "cell_type": "code",
   "execution_count": 44,
   "metadata": {},
   "outputs": [
    {
     "data": {
      "text/html": [
       "<div>\n",
       "<style scoped>\n",
       "    .dataframe tbody tr th:only-of-type {\n",
       "        vertical-align: middle;\n",
       "    }\n",
       "\n",
       "    .dataframe tbody tr th {\n",
       "        vertical-align: top;\n",
       "    }\n",
       "\n",
       "    .dataframe thead th {\n",
       "        text-align: right;\n",
       "    }\n",
       "</style>\n",
       "<table border=\"1\" class=\"dataframe\">\n",
       "  <thead>\n",
       "    <tr style=\"text-align: right;\">\n",
       "      <th></th>\n",
       "      <th>Date</th>\n",
       "      <th>Time</th>\n",
       "      <th>S1_Temp</th>\n",
       "      <th>S2_Temp</th>\n",
       "      <th>S3_Temp</th>\n",
       "      <th>S4_Temp</th>\n",
       "      <th>S1_Light</th>\n",
       "      <th>S2_Light</th>\n",
       "      <th>S3_Light</th>\n",
       "      <th>S4_Light</th>\n",
       "      <th>S1_Sound</th>\n",
       "      <th>S2_Sound</th>\n",
       "      <th>S3_Sound</th>\n",
       "      <th>S4_Sound</th>\n",
       "      <th>S5_CO2</th>\n",
       "      <th>S5_CO2_Slope</th>\n",
       "      <th>S6_PIR</th>\n",
       "      <th>S7_PIR</th>\n",
       "      <th>Room_Occupancy_Count</th>\n",
       "    </tr>\n",
       "  </thead>\n",
       "  <tbody>\n",
       "    <tr>\n",
       "      <th>0</th>\n",
       "      <td>2017/12/22</td>\n",
       "      <td>10:49:41</td>\n",
       "      <td>24.94</td>\n",
       "      <td>24.75</td>\n",
       "      <td>24.56</td>\n",
       "      <td>25.38</td>\n",
       "      <td>121</td>\n",
       "      <td>34</td>\n",
       "      <td>53</td>\n",
       "      <td>40</td>\n",
       "      <td>0.08</td>\n",
       "      <td>0.19</td>\n",
       "      <td>0.06</td>\n",
       "      <td>0.06</td>\n",
       "      <td>390</td>\n",
       "      <td>0.769231</td>\n",
       "      <td>0</td>\n",
       "      <td>0</td>\n",
       "      <td>1</td>\n",
       "    </tr>\n",
       "    <tr>\n",
       "      <th>1</th>\n",
       "      <td>2017/12/22</td>\n",
       "      <td>10:50:12</td>\n",
       "      <td>24.94</td>\n",
       "      <td>24.75</td>\n",
       "      <td>24.56</td>\n",
       "      <td>25.44</td>\n",
       "      <td>121</td>\n",
       "      <td>33</td>\n",
       "      <td>53</td>\n",
       "      <td>40</td>\n",
       "      <td>0.93</td>\n",
       "      <td>0.05</td>\n",
       "      <td>0.06</td>\n",
       "      <td>0.06</td>\n",
       "      <td>390</td>\n",
       "      <td>0.646154</td>\n",
       "      <td>0</td>\n",
       "      <td>0</td>\n",
       "      <td>1</td>\n",
       "    </tr>\n",
       "    <tr>\n",
       "      <th>2</th>\n",
       "      <td>2017/12/22</td>\n",
       "      <td>10:50:42</td>\n",
       "      <td>25.00</td>\n",
       "      <td>24.75</td>\n",
       "      <td>24.50</td>\n",
       "      <td>25.44</td>\n",
       "      <td>121</td>\n",
       "      <td>34</td>\n",
       "      <td>53</td>\n",
       "      <td>40</td>\n",
       "      <td>0.43</td>\n",
       "      <td>0.11</td>\n",
       "      <td>0.08</td>\n",
       "      <td>0.06</td>\n",
       "      <td>390</td>\n",
       "      <td>0.519231</td>\n",
       "      <td>0</td>\n",
       "      <td>0</td>\n",
       "      <td>1</td>\n",
       "    </tr>\n",
       "    <tr>\n",
       "      <th>3</th>\n",
       "      <td>2017/12/22</td>\n",
       "      <td>10:51:13</td>\n",
       "      <td>25.00</td>\n",
       "      <td>24.75</td>\n",
       "      <td>24.56</td>\n",
       "      <td>25.44</td>\n",
       "      <td>121</td>\n",
       "      <td>34</td>\n",
       "      <td>53</td>\n",
       "      <td>40</td>\n",
       "      <td>0.41</td>\n",
       "      <td>0.10</td>\n",
       "      <td>0.10</td>\n",
       "      <td>0.09</td>\n",
       "      <td>390</td>\n",
       "      <td>0.388462</td>\n",
       "      <td>0</td>\n",
       "      <td>0</td>\n",
       "      <td>1</td>\n",
       "    </tr>\n",
       "    <tr>\n",
       "      <th>4</th>\n",
       "      <td>2017/12/22</td>\n",
       "      <td>10:51:44</td>\n",
       "      <td>25.00</td>\n",
       "      <td>24.75</td>\n",
       "      <td>24.56</td>\n",
       "      <td>25.44</td>\n",
       "      <td>121</td>\n",
       "      <td>34</td>\n",
       "      <td>54</td>\n",
       "      <td>40</td>\n",
       "      <td>0.18</td>\n",
       "      <td>0.06</td>\n",
       "      <td>0.06</td>\n",
       "      <td>0.06</td>\n",
       "      <td>390</td>\n",
       "      <td>0.253846</td>\n",
       "      <td>0</td>\n",
       "      <td>0</td>\n",
       "      <td>1</td>\n",
       "    </tr>\n",
       "  </tbody>\n",
       "</table>\n",
       "</div>"
      ],
      "text/plain": [
       "         Date      Time  S1_Temp  S2_Temp  S3_Temp  S4_Temp  S1_Light  \\\n",
       "0  2017/12/22  10:49:41    24.94    24.75    24.56    25.38       121   \n",
       "1  2017/12/22  10:50:12    24.94    24.75    24.56    25.44       121   \n",
       "2  2017/12/22  10:50:42    25.00    24.75    24.50    25.44       121   \n",
       "3  2017/12/22  10:51:13    25.00    24.75    24.56    25.44       121   \n",
       "4  2017/12/22  10:51:44    25.00    24.75    24.56    25.44       121   \n",
       "\n",
       "   S2_Light  S3_Light  S4_Light  S1_Sound  S2_Sound  S3_Sound  S4_Sound  \\\n",
       "0        34        53        40      0.08      0.19      0.06      0.06   \n",
       "1        33        53        40      0.93      0.05      0.06      0.06   \n",
       "2        34        53        40      0.43      0.11      0.08      0.06   \n",
       "3        34        53        40      0.41      0.10      0.10      0.09   \n",
       "4        34        54        40      0.18      0.06      0.06      0.06   \n",
       "\n",
       "   S5_CO2  S5_CO2_Slope  S6_PIR  S7_PIR  Room_Occupancy_Count  \n",
       "0     390      0.769231       0       0                     1  \n",
       "1     390      0.646154       0       0                     1  \n",
       "2     390      0.519231       0       0                     1  \n",
       "3     390      0.388462       0       0                     1  \n",
       "4     390      0.253846       0       0                     1  "
      ]
     },
     "execution_count": 44,
     "metadata": {},
     "output_type": "execute_result"
    }
   ],
   "source": [
    "# Read the CSV file into a data frame called Occupancy\n",
    "Occupancy = pd.read_csv('Occupancy_Estimation.csv')\n",
    "\n",
    "# Display the first five records of the data frame\n",
    "Occupancy.head()"
   ]
  },
  {
   "cell_type": "code",
   "execution_count": 45,
   "metadata": {},
   "outputs": [
    {
     "name": "stdout",
     "output_type": "stream",
     "text": [
      "Column Names: Index(['Date', 'Time', 'S1_Temp', 'S2_Temp', 'S3_Temp', 'S4_Temp', 'S1_Light',\n",
      "       'S2_Light', 'S3_Light', 'S4_Light', 'S1_Sound', 'S2_Sound', 'S3_Sound',\n",
      "       'S4_Sound', 'S5_CO2', 'S5_CO2_Slope', 'S6_PIR', 'S7_PIR',\n",
      "       'Room_Occupancy_Count'],\n",
      "      dtype='object')\n"
     ]
    }
   ],
   "source": [
    "# Get the column names\n",
    "print(\"Column Names:\", Occupancy.columns)"
   ]
  },
  {
   "cell_type": "code",
   "execution_count": 46,
   "metadata": {},
   "outputs": [
    {
     "name": "stdout",
     "output_type": "stream",
     "text": [
      "\n",
      "Data Types of Each Column:\n",
      "Date                     object\n",
      "Time                     object\n",
      "S1_Temp                 float64\n",
      "S2_Temp                 float64\n",
      "S3_Temp                 float64\n",
      "S4_Temp                 float64\n",
      "S1_Light                  int64\n",
      "S2_Light                  int64\n",
      "S3_Light                  int64\n",
      "S4_Light                  int64\n",
      "S1_Sound                float64\n",
      "S2_Sound                float64\n",
      "S3_Sound                float64\n",
      "S4_Sound                float64\n",
      "S5_CO2                    int64\n",
      "S5_CO2_Slope            float64\n",
      "S6_PIR                    int64\n",
      "S7_PIR                    int64\n",
      "Room_Occupancy_Count      int64\n",
      "dtype: object\n"
     ]
    }
   ],
   "source": [
    "# Get the data types of each column\n",
    "print(\"\\nData Types of Each Column:\")\n",
    "print(Occupancy.dtypes)"
   ]
  },
  {
   "cell_type": "code",
   "execution_count": 47,
   "metadata": {},
   "outputs": [
    {
     "name": "stdout",
     "output_type": "stream",
     "text": [
      "Summary Statistics:\n",
      "            S1_Temp       S2_Temp       S3_Temp       S4_Temp      S1_Light  \\\n",
      "count  10129.000000  10129.000000  10129.000000  10129.000000  10129.000000   \n",
      "mean      25.454012     25.546059     25.056621     25.754125     25.445059   \n",
      "std        0.351351      0.586325      0.427283      0.356434     51.011264   \n",
      "min       24.940000     24.750000     24.440000     24.940000      0.000000   \n",
      "25%       25.190000     25.190000     24.690000     25.440000      0.000000   \n",
      "50%       25.380000     25.380000     24.940000     25.750000      0.000000   \n",
      "75%       25.630000     25.630000     25.380000     26.000000     12.000000   \n",
      "max       26.380000     29.000000     26.190000     26.560000    165.000000   \n",
      "\n",
      "          S2_Light      S3_Light      S4_Light      S1_Sound      S2_Sound  \\\n",
      "count  10129.00000  10129.000000  10129.000000  10129.000000  10129.000000   \n",
      "mean      26.01629     34.248494     13.220259      0.168178      0.120066   \n",
      "std       67.30417     58.400744     19.602219      0.316709      0.266503   \n",
      "min        0.00000      0.000000      0.000000      0.060000      0.040000   \n",
      "25%        0.00000      0.000000      0.000000      0.070000      0.050000   \n",
      "50%        0.00000      0.000000      0.000000      0.080000      0.050000   \n",
      "75%       14.00000     50.000000     22.000000      0.080000      0.060000   \n",
      "max      258.00000    280.000000     74.000000      3.880000      3.440000   \n",
      "\n",
      "           S3_Sound      S4_Sound        S5_CO2  S5_CO2_Slope        S6_PIR  \\\n",
      "count  10129.000000  10129.000000  10129.000000  10129.000000  10129.000000   \n",
      "mean       0.158119      0.103840    460.860401     -0.004830      0.090137   \n",
      "std        0.413637      0.120683    199.964940      1.164990      0.286392   \n",
      "min        0.040000      0.050000    345.000000     -6.296154      0.000000   \n",
      "25%        0.060000      0.060000    355.000000     -0.046154      0.000000   \n",
      "50%        0.060000      0.080000    360.000000      0.000000      0.000000   \n",
      "75%        0.070000      0.100000    465.000000      0.000000      0.000000   \n",
      "max        3.670000      3.400000   1270.000000      8.980769      1.000000   \n",
      "\n",
      "             S7_PIR  Room_Occupancy_Count  \n",
      "count  10129.000000          10129.000000  \n",
      "mean       0.079574              0.398559  \n",
      "std        0.270645              0.893633  \n",
      "min        0.000000              0.000000  \n",
      "25%        0.000000              0.000000  \n",
      "50%        0.000000              0.000000  \n",
      "75%        0.000000              0.000000  \n",
      "max        1.000000              3.000000  \n"
     ]
    }
   ],
   "source": [
    "# Get the summary statistics\n",
    "print(\"Summary Statistics:\")\n",
    "print(Occupancy.describe())"
   ]
  },
  {
   "cell_type": "markdown",
   "metadata": {},
   "source": [
    "**Create a boxplot to display the distribution of room occupancy for each day**"
   ]
  },
  {
   "cell_type": "code",
   "execution_count": 48,
   "metadata": {},
   "outputs": [
    {
     "data": {
      "image/png": "[encoded data removed]",
      "text/plain": [
       "<Figure size 640x480 with 1 Axes>"
      ]
     },
     "metadata": {},
     "output_type": "display_data"
    }
   ],
   "source": [
    "# Create the boxplot\n",
    "sns.boxplot(x='Date', y='Room_Occupancy_Count', data=Occupancy)\n",
    "\n",
    "# Set the labels\n",
    "plt.title('Boxplot of Occupancy Counts by Day')\n",
    "plt.xlabel('Date')\n",
    "plt.ylabel('Occupancy Count')\n",
    "\n",
    "# Set tick labels on x-axis\n",
    "plt.xticks(np.arange(7), [\"Dec 22\",\"Dec 23\", \"Dec 24\", \"Dec 25\", \"Dec 26\", \"Jan 10\", \"Jan 11\"])  \n",
    "\n",
    "# Show the plot\n",
    "plt.show()"
   ]
  },
  {
   "cell_type": "markdown",
   "metadata": {},
   "source": [
    "**Check the Correlation between features without PCA**"
   ]
  },
  {
   "cell_type": "code",
   "execution_count": 49,
   "metadata": {},
   "outputs": [
    {
     "data": {
      "text/plain": [
       "<Axes: >"
      ]
     },
     "execution_count": 49,
     "metadata": {},
     "output_type": "execute_result"
    },
    {
     "data": {
      "image/png": "[encoded data removed]",
      "text/plain": [
       "<Figure size 640x480 with 2 Axes>"
      ]
     },
     "metadata": {},
     "output_type": "display_data"
    }
   ],
   "source": [
    "# Check the Correlation between features without PCA\n",
    "sns.heatmap(X.corr())"
   ]
  },
  {
   "cell_type": "markdown",
   "metadata": {},
   "source": [
    "Based on the above heatmap, we can see that several pairs of features have moderate to high correlation."
   ]
  },
  {
   "cell_type": "markdown",
   "metadata": {},
   "source": [
    "**Standardize the features**"
   ]
  },
  {
   "cell_type": "code",
   "execution_count": 50,
   "metadata": {},
   "outputs": [],
   "source": [
    "# Create the scaler\n",
    "scaler = StandardScaler()   # mean = 0 and standard deviation = 1\n",
    "\n",
    "# Transform the numeric data\n",
    "X = pd.DataFrame(scaler.fit_transform(Occupancy.iloc[:, 2:16]))\n",
    "\n",
    "# Add the binary features\n",
    "X['S6_PIR'] = Occupancy['S6_PIR']\n",
    "X['S7_PIR'] = Occupancy['S7_PIR']\n",
    "\n",
    "# Add the column names for the features\n",
    "X.columns = ['S1_Temp', 'S2_Temp', 'S3_Temp', 'S4_Temp',\n",
    "             'S1_Light', 'S2_Light', 'S3_Light', 'S4_Light',\n",
    "             'S1_Sound', 'S2_Sound', 'S3_Sound', 'S4_Sound',\n",
    "             'S5_CO2', 'S5_CO2_Slope', 'S6_PIR', 'S7_PIR']\n",
    "\n",
    "# Define the target variable\n",
    "y = Occupancy['Room_Occupancy_Count']"
   ]
  },
  {
   "cell_type": "code",
   "execution_count": 51,
   "metadata": {},
   "outputs": [
    {
     "data": {
      "text/html": [
       "<div>\n",
       "<style scoped>\n",
       "    .dataframe tbody tr th:only-of-type {\n",
       "        vertical-align: middle;\n",
       "    }\n",
       "\n",
       "    .dataframe tbody tr th {\n",
       "        vertical-align: top;\n",
       "    }\n",
       "\n",
       "    .dataframe thead th {\n",
       "        text-align: right;\n",
       "    }\n",
       "</style>\n",
       "<table border=\"1\" class=\"dataframe\">\n",
       "  <thead>\n",
       "    <tr style=\"text-align: right;\">\n",
       "      <th></th>\n",
       "      <th>S1_Temp</th>\n",
       "      <th>S2_Temp</th>\n",
       "      <th>S3_Temp</th>\n",
       "      <th>S4_Temp</th>\n",
       "      <th>S1_Light</th>\n",
       "      <th>S2_Light</th>\n",
       "      <th>S3_Light</th>\n",
       "      <th>S4_Light</th>\n",
       "      <th>S1_Sound</th>\n",
       "      <th>S2_Sound</th>\n",
       "      <th>S3_Sound</th>\n",
       "      <th>S4_Sound</th>\n",
       "      <th>S5_CO2</th>\n",
       "      <th>S5_CO2_Slope</th>\n",
       "      <th>S6_PIR</th>\n",
       "      <th>S7_PIR</th>\n",
       "    </tr>\n",
       "  </thead>\n",
       "  <tbody>\n",
       "    <tr>\n",
       "      <th>count</th>\n",
       "      <td>1.012900e+04</td>\n",
       "      <td>1.012900e+04</td>\n",
       "      <td>1.012900e+04</td>\n",
       "      <td>1.012900e+04</td>\n",
       "      <td>1.012900e+04</td>\n",
       "      <td>1.012900e+04</td>\n",
       "      <td>1.012900e+04</td>\n",
       "      <td>1.012900e+04</td>\n",
       "      <td>1.012900e+04</td>\n",
       "      <td>1.012900e+04</td>\n",
       "      <td>1.012900e+04</td>\n",
       "      <td>1.012900e+04</td>\n",
       "      <td>1.012900e+04</td>\n",
       "      <td>1.012900e+04</td>\n",
       "      <td>10129.000000</td>\n",
       "      <td>10129.000000</td>\n",
       "    </tr>\n",
       "    <tr>\n",
       "      <th>mean</th>\n",
       "      <td>-3.434512e-15</td>\n",
       "      <td>5.533380e-15</td>\n",
       "      <td>4.781379e-15</td>\n",
       "      <td>-6.779233e-15</td>\n",
       "      <td>8.979116e-17</td>\n",
       "      <td>-1.122390e-17</td>\n",
       "      <td>-4.489558e-17</td>\n",
       "      <td>-1.010151e-16</td>\n",
       "      <td>-2.244779e-17</td>\n",
       "      <td>-5.611948e-17</td>\n",
       "      <td>-8.417922e-17</td>\n",
       "      <td>-1.094330e-16</td>\n",
       "      <td>-8.979116e-17</td>\n",
       "      <td>-3.086571e-17</td>\n",
       "      <td>0.090137</td>\n",
       "      <td>0.079574</td>\n",
       "    </tr>\n",
       "    <tr>\n",
       "      <th>std</th>\n",
       "      <td>1.000049e+00</td>\n",
       "      <td>1.000049e+00</td>\n",
       "      <td>1.000049e+00</td>\n",
       "      <td>1.000049e+00</td>\n",
       "      <td>1.000049e+00</td>\n",
       "      <td>1.000049e+00</td>\n",
       "      <td>1.000049e+00</td>\n",
       "      <td>1.000049e+00</td>\n",
       "      <td>1.000049e+00</td>\n",
       "      <td>1.000049e+00</td>\n",
       "      <td>1.000049e+00</td>\n",
       "      <td>1.000049e+00</td>\n",
       "      <td>1.000049e+00</td>\n",
       "      <td>1.000049e+00</td>\n",
       "      <td>0.286392</td>\n",
       "      <td>0.270645</td>\n",
       "    </tr>\n",
       "    <tr>\n",
       "      <th>min</th>\n",
       "      <td>-1.463033e+00</td>\n",
       "      <td>-1.357775e+00</td>\n",
       "      <td>-1.443193e+00</td>\n",
       "      <td>-2.284195e+00</td>\n",
       "      <td>-4.988372e-01</td>\n",
       "      <td>-3.865670e-01</td>\n",
       "      <td>-5.864683e-01</td>\n",
       "      <td>-6.744599e-01</td>\n",
       "      <td>-3.415843e-01</td>\n",
       "      <td>-3.004478e-01</td>\n",
       "      <td>-2.855770e-01</td>\n",
       "      <td>-4.461540e-01</td>\n",
       "      <td>-5.794322e-01</td>\n",
       "      <td>-5.400593e+00</td>\n",
       "      <td>0.000000</td>\n",
       "      <td>0.000000</td>\n",
       "    </tr>\n",
       "    <tr>\n",
       "      <th>25%</th>\n",
       "      <td>-7.514583e-01</td>\n",
       "      <td>-6.073017e-01</td>\n",
       "      <td>-8.580709e-01</td>\n",
       "      <td>-8.813419e-01</td>\n",
       "      <td>-4.988372e-01</td>\n",
       "      <td>-3.865670e-01</td>\n",
       "      <td>-5.864683e-01</td>\n",
       "      <td>-6.744599e-01</td>\n",
       "      <td>-3.100080e-01</td>\n",
       "      <td>-2.629229e-01</td>\n",
       "      <td>-2.372230e-01</td>\n",
       "      <td>-3.632881e-01</td>\n",
       "      <td>-5.294209e-01</td>\n",
       "      <td>-3.547318e-02</td>\n",
       "      <td>0.000000</td>\n",
       "      <td>0.000000</td>\n",
       "    </tr>\n",
       "    <tr>\n",
       "      <th>50%</th>\n",
       "      <td>-2.106611e-01</td>\n",
       "      <td>-2.832335e-01</td>\n",
       "      <td>-2.729490e-01</td>\n",
       "      <td>-1.157295e-02</td>\n",
       "      <td>-4.988372e-01</td>\n",
       "      <td>-3.865670e-01</td>\n",
       "      <td>-5.864683e-01</td>\n",
       "      <td>-6.744599e-01</td>\n",
       "      <td>-2.784317e-01</td>\n",
       "      <td>-2.629229e-01</td>\n",
       "      <td>-2.372230e-01</td>\n",
       "      <td>-1.975562e-01</td>\n",
       "      <td>-5.044153e-01</td>\n",
       "      <td>4.146165e-03</td>\n",
       "      <td>0.000000</td>\n",
       "      <td>0.000000</td>\n",
       "    </tr>\n",
       "    <tr>\n",
       "      <th>75%</th>\n",
       "      <td>5.009141e-01</td>\n",
       "      <td>1.431719e-01</td>\n",
       "      <td>7.568655e-01</td>\n",
       "      <td>6.898537e-01</td>\n",
       "      <td>-2.635834e-01</td>\n",
       "      <td>-1.785459e-01</td>\n",
       "      <td>2.697274e-01</td>\n",
       "      <td>4.479174e-01</td>\n",
       "      <td>-2.784317e-01</td>\n",
       "      <td>-2.253979e-01</td>\n",
       "      <td>-2.130460e-01</td>\n",
       "      <td>-3.182432e-02</td>\n",
       "      <td>2.070265e-02</td>\n",
       "      <td>4.146165e-03</td>\n",
       "      <td>0.000000</td>\n",
       "      <td>0.000000</td>\n",
       "    </tr>\n",
       "    <tr>\n",
       "      <th>max</th>\n",
       "      <td>2.635640e+00</td>\n",
       "      <td>5.891117e+00</td>\n",
       "      <td>2.652660e+00</td>\n",
       "      <td>2.261049e+00</td>\n",
       "      <td>2.735902e+00</td>\n",
       "      <td>3.446966e+00</td>\n",
       "      <td>4.208228e+00</td>\n",
       "      <td>3.100809e+00</td>\n",
       "      <td>1.172055e+01</td>\n",
       "      <td>1.245804e+01</td>\n",
       "      <td>8.490675e+00</td>\n",
       "      <td>2.731394e+01</td>\n",
       "      <td>4.046607e+00</td>\n",
       "      <td>7.713410e+00</td>\n",
       "      <td>1.000000</td>\n",
       "      <td>1.000000</td>\n",
       "    </tr>\n",
       "  </tbody>\n",
       "</table>\n",
       "</div>"
      ],
      "text/plain": [
       "            S1_Temp       S2_Temp       S3_Temp       S4_Temp      S1_Light  \\\n",
       "count  1.012900e+04  1.012900e+04  1.012900e+04  1.012900e+04  1.012900e+04   \n",
       "mean  -3.434512e-15  5.533380e-15  4.781379e-15 -6.779233e-15  8.979116e-17   \n",
       "std    1.000049e+00  1.000049e+00  1.000049e+00  1.000049e+00  1.000049e+00   \n",
       "min   -1.463033e+00 -1.357775e+00 -1.443193e+00 -2.284195e+00 -4.988372e-01   \n",
       "25%   -7.514583e-01 -6.073017e-01 -8.580709e-01 -8.813419e-01 -4.988372e-01   \n",
       "50%   -2.106611e-01 -2.832335e-01 -2.729490e-01 -1.157295e-02 -4.988372e-01   \n",
       "75%    5.009141e-01  1.431719e-01  7.568655e-01  6.898537e-01 -2.635834e-01   \n",
       "max    2.635640e+00  5.891117e+00  2.652660e+00  2.261049e+00  2.735902e+00   \n",
       "\n",
       "           S2_Light      S3_Light      S4_Light      S1_Sound      S2_Sound  \\\n",
       "count  1.012900e+04  1.012900e+04  1.012900e+04  1.012900e+04  1.012900e+04   \n",
       "mean  -1.122390e-17 -4.489558e-17 -1.010151e-16 -2.244779e-17 -5.611948e-17   \n",
       "std    1.000049e+00  1.000049e+00  1.000049e+00  1.000049e+00  1.000049e+00   \n",
       "min   -3.865670e-01 -5.864683e-01 -6.744599e-01 -3.415843e-01 -3.004478e-01   \n",
       "25%   -3.865670e-01 -5.864683e-01 -6.744599e-01 -3.100080e-01 -2.629229e-01   \n",
       "50%   -3.865670e-01 -5.864683e-01 -6.744599e-01 -2.784317e-01 -2.629229e-01   \n",
       "75%   -1.785459e-01  2.697274e-01  4.479174e-01 -2.784317e-01 -2.253979e-01   \n",
       "max    3.446966e+00  4.208228e+00  3.100809e+00  1.172055e+01  1.245804e+01   \n",
       "\n",
       "           S3_Sound      S4_Sound        S5_CO2  S5_CO2_Slope        S6_PIR  \\\n",
       "count  1.012900e+04  1.012900e+04  1.012900e+04  1.012900e+04  10129.000000   \n",
       "mean  -8.417922e-17 -1.094330e-16 -8.979116e-17 -3.086571e-17      0.090137   \n",
       "std    1.000049e+00  1.000049e+00  1.000049e+00  1.000049e+00      0.286392   \n",
       "min   -2.855770e-01 -4.461540e-01 -5.794322e-01 -5.400593e+00      0.000000   \n",
       "25%   -2.372230e-01 -3.632881e-01 -5.294209e-01 -3.547318e-02      0.000000   \n",
       "50%   -2.372230e-01 -1.975562e-01 -5.044153e-01  4.146165e-03      0.000000   \n",
       "75%   -2.130460e-01 -3.182432e-02  2.070265e-02  4.146165e-03      0.000000   \n",
       "max    8.490675e+00  2.731394e+01  4.046607e+00  7.713410e+00      1.000000   \n",
       "\n",
       "             S7_PIR  \n",
       "count  10129.000000  \n",
       "mean       0.079574  \n",
       "std        0.270645  \n",
       "min        0.000000  \n",
       "25%        0.000000  \n",
       "50%        0.000000  \n",
       "75%        0.000000  \n",
       "max        1.000000  "
      ]
     },
     "execution_count": 51,
     "metadata": {},
     "output_type": "execute_result"
    }
   ],
   "source": [
    "X.describe()"
   ]
  },
  {
   "cell_type": "markdown",
   "metadata": {},
   "source": [
    "**Apply Principal Component Analysis**"
   ]
  },
  {
   "cell_type": "code",
   "execution_count": 52,
   "metadata": {},
   "outputs": [
    {
     "data": {
      "image/png": "[encoded data removed]",
      "text/plain": [
       "<Figure size 640x480 with 1 Axes>"
      ]
     },
     "metadata": {},
     "output_type": "display_data"
    }
   ],
   "source": [
    "# Plotting cumulative explained variance to choose the optimal number of components\n",
    "pca_full = PCA().fit(X) \n",
    "plt.plot(np.cumsum(pca_full.explained_variance_ratio_), marker='o')\n",
    "plt.xlabel('Number of Components')\n",
    "plt.ylabel('Cumulative Explained Variance')\n",
    "plt.title('Explained Variance vs. Number of Components')\n",
    "plt.grid()\n",
    "plt.show()"
   ]
  },
  {
   "cell_type": "code",
   "execution_count": 53,
   "metadata": {},
   "outputs": [
    {
     "data": {
      "text/plain": [
       "array([0.53420654, 0.6703093 , 0.75417075, 0.8079521 , 0.84815055,\n",
       "       0.88157964, 0.91392404, 0.93691635, 0.9561106 , 0.97180268,\n",
       "       0.98081481, 0.98773636, 0.99309256, 0.99655362, 0.99851644,\n",
       "       1.        ])"
      ]
     },
     "execution_count": 53,
     "metadata": {},
     "output_type": "execute_result"
    }
   ],
   "source": [
    "np.cumsum(pca_full.explained_variance_ratio_)"
   ]
  },
  {
   "cell_type": "code",
   "execution_count": 54,
   "metadata": {},
   "outputs": [
    {
     "data": {
      "text/html": [
       "<div>\n",
       "<style scoped>\n",
       "    .dataframe tbody tr th:only-of-type {\n",
       "        vertical-align: middle;\n",
       "    }\n",
       "\n",
       "    .dataframe tbody tr th {\n",
       "        vertical-align: top;\n",
       "    }\n",
       "\n",
       "    .dataframe thead th {\n",
       "        text-align: right;\n",
       "    }\n",
       "</style>\n",
       "<table border=\"1\" class=\"dataframe\">\n",
       "  <thead>\n",
       "    <tr style=\"text-align: right;\">\n",
       "      <th></th>\n",
       "      <th>PC1</th>\n",
       "      <th>PC2</th>\n",
       "      <th>PC3</th>\n",
       "      <th>PC4</th>\n",
       "      <th>PC5</th>\n",
       "      <th>PC6</th>\n",
       "      <th>PC7</th>\n",
       "    </tr>\n",
       "  </thead>\n",
       "  <tbody>\n",
       "    <tr>\n",
       "      <th>0</th>\n",
       "      <td>-0.686113</td>\n",
       "      <td>2.102322</td>\n",
       "      <td>1.957106</td>\n",
       "      <td>0.191789</td>\n",
       "      <td>-0.101719</td>\n",
       "      <td>-0.803158</td>\n",
       "      <td>-0.143256</td>\n",
       "    </tr>\n",
       "    <tr>\n",
       "      <th>1</th>\n",
       "      <td>-0.131358</td>\n",
       "      <td>2.522851</td>\n",
       "      <td>1.541169</td>\n",
       "      <td>0.622188</td>\n",
       "      <td>0.541418</td>\n",
       "      <td>-1.301222</td>\n",
       "      <td>2.233778</td>\n",
       "    </tr>\n",
       "    <tr>\n",
       "      <th>2</th>\n",
       "      <td>-0.450642</td>\n",
       "      <td>2.154163</td>\n",
       "      <td>1.734071</td>\n",
       "      <td>0.452159</td>\n",
       "      <td>0.136148</td>\n",
       "      <td>-1.086528</td>\n",
       "      <td>0.864504</td>\n",
       "    </tr>\n",
       "    <tr>\n",
       "      <th>3</th>\n",
       "      <td>-0.383169</td>\n",
       "      <td>2.119162</td>\n",
       "      <td>1.594852</td>\n",
       "      <td>0.562530</td>\n",
       "      <td>0.021398</td>\n",
       "      <td>-1.083995</td>\n",
       "      <td>0.785992</td>\n",
       "    </tr>\n",
       "    <tr>\n",
       "      <th>4</th>\n",
       "      <td>-0.683429</td>\n",
       "      <td>1.742131</td>\n",
       "      <td>1.870580</td>\n",
       "      <td>0.427451</td>\n",
       "      <td>-0.191480</td>\n",
       "      <td>-1.099345</td>\n",
       "      <td>0.302282</td>\n",
       "    </tr>\n",
       "  </tbody>\n",
       "</table>\n",
       "</div>"
      ],
      "text/plain": [
       "        PC1       PC2       PC3       PC4       PC5       PC6       PC7\n",
       "0 -0.686113  2.102322  1.957106  0.191789 -0.101719 -0.803158 -0.143256\n",
       "1 -0.131358  2.522851  1.541169  0.622188  0.541418 -1.301222  2.233778\n",
       "2 -0.450642  2.154163  1.734071  0.452159  0.136148 -1.086528  0.864504\n",
       "3 -0.383169  2.119162  1.594852  0.562530  0.021398 -1.083995  0.785992\n",
       "4 -0.683429  1.742131  1.870580  0.427451 -0.191480 -1.099345  0.302282"
      ]
     },
     "execution_count": 54,
     "metadata": {},
     "output_type": "execute_result"
    }
   ],
   "source": [
    "# Applying PCA\n",
    "# Taking no. of Principal Components as 7\n",
    "pca = PCA(n_components = 7)\n",
    "pca.fit(X)\n",
    "data_pca = pca.transform(X)\n",
    "data_pca = pd.DataFrame(data_pca,columns=['PC1','PC2','PC3','PC4','PC5', 'PC6', 'PC7'])\n",
    "data_pca.head()"
   ]
  },
  {
   "cell_type": "markdown",
   "metadata": {},
   "source": [
    "**Create the Scree Plot**"
   ]
  },
  {
   "cell_type": "code",
   "execution_count": 56,
   "metadata": {},
   "outputs": [
    {
     "name": "stdout",
     "output_type": "stream",
     "text": [
      "[0.53420654 0.13610276 0.08386145 0.05378135 0.04019845 0.0334291\n",
      " 0.0323444 ]\n"
     ]
    }
   ],
   "source": [
    "# Calculate the percentage of total variance explained by each principal component\n",
    "print(pca.explained_variance_ratio_)"
   ]
  },
  {
   "cell_type": "markdown",
   "metadata": {},
   "source": [
    "- The first principal component explains **53.42%** of the total variation in the dataset.\n",
    "- The second principal component explains **13.61%** of the total variation in the dataset.\n",
    "- The third principal component explains **8.39%** of the total variation in the dataset.\n",
    "- The fourth principal component explains **5.38%** of the total variation in the dataset.\n",
    "- The fifth principal component explains **4.02%** of the total variation in the dataset.\n",
    "- The sixth principal component explains **3.34%** of the total variation in the dataset.\n",
    "- The seventh principal component explains **3.23%** of the total variation in the dataset."
   ]
  },
  {
   "cell_type": "code",
   "execution_count": 57,
   "metadata": {},
   "outputs": [
    {
     "data": {
      "image/png": "[encoded data removed]",
      "text/plain": [
       "<Figure size 640x480 with 1 Axes>"
      ]
     },
     "metadata": {},
     "output_type": "display_data"
    }
   ],
   "source": [
    "# Plot the scree plot\n",
    "PC_values = np.arange(pca.n_components_) + 1\n",
    "plt.plot(PC_values, pca.explained_variance_ratio_, 'o-', linewidth=2, color='blue')\n",
    "plt.title('Scree Plot')\n",
    "plt.xlabel('Principal Component')\n",
    "plt.ylabel('Variance Explained')\n",
    "plt.show()"
   ]
  },
  {
   "cell_type": "markdown",
   "metadata": {},
   "source": [
    "**Check Correlation between features after PCA**"
   ]
  },
  {
   "cell_type": "code",
   "execution_count": null,
   "metadata": {},
   "outputs": [
    {
     "data": {
      "text/plain": [
       "<Axes: >"
      ]
     },
     "execution_count": 58,
     "metadata": {},
     "output_type": "execute_result"
    },
    {
     "data": {
      "image/png": "[encoded data removed]",
      "text/plain": [
       "<Figure size 640x480 with 2 Axes>"
      ]
     },
     "metadata": {},
     "output_type": "display_data"
    }
   ],
   "source": [
    "# Checking Correlation between features after PCA\n",
    "sns.heatmap(data_pca.corr())"
   ]
  },
  {
   "cell_type": "markdown",
   "metadata": {},
   "source": [
    "Based on the above heatmap, there is no correlation between the principal components (PC1, PC2, PC3, PC4, and PC5)."
   ]
  },
  {
   "cell_type": "markdown",
   "metadata": {},
   "source": [
    "**Analyze the contribution of each feature**"
   ]
  },
  {
   "cell_type": "code",
   "execution_count": 59,
   "metadata": {},
   "outputs": [
    {
     "name": "stdout",
     "output_type": "stream",
     "text": [
      "                   PC1       PC2\n",
      "S1_Temp       0.311282 -0.323016\n",
      "S2_Temp       0.299695 -0.197385\n",
      "S3_Temp       0.299219 -0.356311\n",
      "S4_Temp       0.278824 -0.324778\n",
      "S1_Light      0.318130  0.107028\n",
      "S2_Light      0.291981  0.147959\n",
      "S3_Light      0.311904  0.064052\n",
      "S4_Light      0.177232  0.113372\n",
      "S1_Sound      0.241923  0.253501\n",
      "S2_Sound      0.230842  0.302862\n",
      "S3_Sound      0.239889  0.238537\n",
      "S4_Sound      0.219939  0.311745\n",
      "S5_CO2        0.287106 -0.296635\n",
      "S5_CO2_Slope  0.150390  0.415337\n",
      "S6_PIR        0.063995  0.042659\n",
      "S7_PIR        0.063087  0.039614\n"
     ]
    }
   ],
   "source": [
    "# Display feature contributions (loadings) for the first two principal components\n",
    "pca = PCA(n_components=2)\n",
    "pca.fit(X)\n",
    "\n",
    "feature_names = ['S1_Temp', 'S2_Temp', 'S3_Temp', 'S4_Temp',\n",
    "             'S1_Light', 'S2_Light', 'S3_Light', 'S4_Light',\n",
    "             'S1_Sound', 'S2_Sound', 'S3_Sound', 'S4_Sound',\n",
    "             'S5_CO2', 'S5_CO2_Slope', 'S6_PIR', 'S7_PIR']\n",
    "\n",
    "\n",
    "loadings = pd.DataFrame(pca.components_.T, columns=['PC1', 'PC2'], index=feature_names)\n",
    "print(loadings)"
   ]
  },
  {
   "cell_type": "code",
   "execution_count": 60,
   "metadata": {},
   "outputs": [
    {
     "data": {
      "text/plain": [
       "S1_Light    0.318130\n",
       "S3_Light    0.311904\n",
       "S1_Temp     0.311282\n",
       "S2_Temp     0.299695\n",
       "S3_Temp     0.299219\n",
       "Name: PC1, dtype: float64"
      ]
     },
     "execution_count": 60,
     "metadata": {},
     "output_type": "execute_result"
    }
   ],
   "source": [
    "loadings['PC1'].nlargest(5)"
   ]
  },
  {
   "cell_type": "code",
   "execution_count": 61,
   "metadata": {},
   "outputs": [
    {
     "data": {
      "text/plain": [
       "S7_PIR          0.063087\n",
       "S6_PIR          0.063995\n",
       "S5_CO2_Slope    0.150390\n",
       "S4_Light        0.177232\n",
       "S4_Sound        0.219939\n",
       "Name: PC1, dtype: float64"
      ]
     },
     "execution_count": 61,
     "metadata": {},
     "output_type": "execute_result"
    }
   ],
   "source": [
    "loadings['PC1'].nsmallest(5)"
   ]
  },
  {
   "cell_type": "code",
   "execution_count": 62,
   "metadata": {},
   "outputs": [
    {
     "data": {
      "text/plain": [
       "S5_CO2_Slope    0.415337\n",
       "S4_Sound        0.311745\n",
       "S2_Sound        0.302862\n",
       "S1_Sound        0.253501\n",
       "S3_Sound        0.238537\n",
       "Name: PC2, dtype: float64"
      ]
     },
     "execution_count": 62,
     "metadata": {},
     "output_type": "execute_result"
    }
   ],
   "source": [
    "loadings['PC2'].nlargest(5)"
   ]
  },
  {
   "cell_type": "code",
   "execution_count": 63,
   "metadata": {},
   "outputs": [
    {
     "data": {
      "text/plain": [
       "S3_Temp   -0.356311\n",
       "S4_Temp   -0.324778\n",
       "S1_Temp   -0.323016\n",
       "S5_CO2    -0.296635\n",
       "S2_Temp   -0.197385\n",
       "Name: PC2, dtype: float64"
      ]
     },
     "execution_count": 63,
     "metadata": {},
     "output_type": "execute_result"
    }
   ],
   "source": [
    "loadings['PC2'].nsmallest(5)"
   ]
  },
  {
   "cell_type": "code",
   "execution_count": 64,
   "metadata": {},
   "outputs": [
    {
     "data": {
      "text/html": [
       "<div>\n",
       "<style scoped>\n",
       "    .dataframe tbody tr th:only-of-type {\n",
       "        vertical-align: middle;\n",
       "    }\n",
       "\n",
       "    .dataframe tbody tr th {\n",
       "        vertical-align: top;\n",
       "    }\n",
       "\n",
       "    .dataframe thead th {\n",
       "        text-align: right;\n",
       "    }\n",
       "</style>\n",
       "<table border=\"1\" class=\"dataframe\">\n",
       "  <thead>\n",
       "    <tr style=\"text-align: right;\">\n",
       "      <th></th>\n",
       "      <th>PC1</th>\n",
       "      <th>PC2</th>\n",
       "      <th>PC3</th>\n",
       "      <th>PC4</th>\n",
       "      <th>PC5</th>\n",
       "      <th>PC6</th>\n",
       "      <th>PC7</th>\n",
       "      <th>Room_Occupancy_Count</th>\n",
       "    </tr>\n",
       "  </thead>\n",
       "  <tbody>\n",
       "    <tr>\n",
       "      <th>0</th>\n",
       "      <td>-0.686113</td>\n",
       "      <td>2.102322</td>\n",
       "      <td>1.957106</td>\n",
       "      <td>0.191789</td>\n",
       "      <td>-0.101719</td>\n",
       "      <td>-0.803158</td>\n",
       "      <td>-0.143256</td>\n",
       "      <td>1</td>\n",
       "    </tr>\n",
       "    <tr>\n",
       "      <th>1</th>\n",
       "      <td>-0.131358</td>\n",
       "      <td>2.522851</td>\n",
       "      <td>1.541169</td>\n",
       "      <td>0.622188</td>\n",
       "      <td>0.541418</td>\n",
       "      <td>-1.301222</td>\n",
       "      <td>2.233778</td>\n",
       "      <td>1</td>\n",
       "    </tr>\n",
       "    <tr>\n",
       "      <th>2</th>\n",
       "      <td>-0.450642</td>\n",
       "      <td>2.154163</td>\n",
       "      <td>1.734071</td>\n",
       "      <td>0.452159</td>\n",
       "      <td>0.136148</td>\n",
       "      <td>-1.086528</td>\n",
       "      <td>0.864504</td>\n",
       "      <td>1</td>\n",
       "    </tr>\n",
       "    <tr>\n",
       "      <th>3</th>\n",
       "      <td>-0.383169</td>\n",
       "      <td>2.119162</td>\n",
       "      <td>1.594852</td>\n",
       "      <td>0.562530</td>\n",
       "      <td>0.021398</td>\n",
       "      <td>-1.083995</td>\n",
       "      <td>0.785992</td>\n",
       "      <td>1</td>\n",
       "    </tr>\n",
       "    <tr>\n",
       "      <th>4</th>\n",
       "      <td>-0.683429</td>\n",
       "      <td>1.742131</td>\n",
       "      <td>1.870580</td>\n",
       "      <td>0.427451</td>\n",
       "      <td>-0.191480</td>\n",
       "      <td>-1.099345</td>\n",
       "      <td>0.302282</td>\n",
       "      <td>1</td>\n",
       "    </tr>\n",
       "  </tbody>\n",
       "</table>\n",
       "</div>"
      ],
      "text/plain": [
       "        PC1       PC2       PC3       PC4       PC5       PC6       PC7  \\\n",
       "0 -0.686113  2.102322  1.957106  0.191789 -0.101719 -0.803158 -0.143256   \n",
       "1 -0.131358  2.522851  1.541169  0.622188  0.541418 -1.301222  2.233778   \n",
       "2 -0.450642  2.154163  1.734071  0.452159  0.136148 -1.086528  0.864504   \n",
       "3 -0.383169  2.119162  1.594852  0.562530  0.021398 -1.083995  0.785992   \n",
       "4 -0.683429  1.742131  1.870580  0.427451 -0.191480 -1.099345  0.302282   \n",
       "\n",
       "   Room_Occupancy_Count  \n",
       "0                     1  \n",
       "1                     1  \n",
       "2                     1  \n",
       "3                     1  \n",
       "4                     1  "
      ]
     },
     "execution_count": 64,
     "metadata": {},
     "output_type": "execute_result"
    }
   ],
   "source": [
    "# Add the Room_Occupancy_Count to the reduced dataset\n",
    "data_pca['Room_Occupancy_Count'] = y\n",
    "data_pca.head()"
   ]
  },
  {
   "cell_type": "code",
   "execution_count": 65,
   "metadata": {},
   "outputs": [],
   "source": [
    "# Export CSV to working directory\n",
    "data_pca.to_csv('pca.csv')"
   ]
  }
 ],
 "metadata": {
  "kernelspec": {
   "display_name": "Python 3 (ipykernel)",
   "language": "python",
   "name": "python3"
  },
  "language_info": {
   "codemirror_mode": {
    "name": "ipython",
    "version": 3
   },
   "file_extension": ".py",
   "mimetype": "text/x-python",
   "name": "python",
   "nbconvert_exporter": "python",
   "pygments_lexer": "ipython3",
   "version": "3.11.7"
  }
 },
 "nbformat": 4,
 "nbformat_minor": 4
}
