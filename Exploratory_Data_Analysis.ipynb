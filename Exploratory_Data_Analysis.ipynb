{
 "cells": [
  {
   "cell_type": "markdown",
   "metadata": {},
   "source": [
    "## **CIND 820 - Big Data Analytics Project**"
   ]
  },
  {
   "cell_type": "code",
   "execution_count": 1,
   "metadata": {},
   "outputs": [],
   "source": [
    "# Import necessary libraries\n",
    "import pandas as pd\n",
    "import seaborn as sns\n",
    "from scipy import stats\n",
    "import matplotlib.pyplot as plt\n",
    "import statsmodels.api as sm\n",
    "from statsmodels.formula.api import ols          # ordinary least squares"
   ]
  },
  {
   "cell_type": "markdown",
   "metadata": {},
   "source": [
    "**Create a data frame of the Room Occupancy dataset. Display the names of the columns. Check the data types of the attributes. Run a summary statistics of the dataset.**"
   ]
  },
  {
   "cell_type": "code",
   "execution_count": 2,
   "metadata": {},
   "outputs": [
    {
     "data": {
      "text/html": [
       "<div>\n",
       "<style scoped>\n",
       "    .dataframe tbody tr th:only-of-type {\n",
       "        vertical-align: middle;\n",
       "    }\n",
       "\n",
       "    .dataframe tbody tr th {\n",
       "        vertical-align: top;\n",
       "    }\n",
       "\n",
       "    .dataframe thead th {\n",
       "        text-align: right;\n",
       "    }\n",
       "</style>\n",
       "<table border=\"1\" class=\"dataframe\">\n",
       "  <thead>\n",
       "    <tr style=\"text-align: right;\">\n",
       "      <th></th>\n",
       "      <th>Date</th>\n",
       "      <th>Time</th>\n",
       "      <th>S1_Temp</th>\n",
       "      <th>S2_Temp</th>\n",
       "      <th>S3_Temp</th>\n",
       "      <th>S4_Temp</th>\n",
       "      <th>S1_Light</th>\n",
       "      <th>S2_Light</th>\n",
       "      <th>S3_Light</th>\n",
       "      <th>S4_Light</th>\n",
       "      <th>S1_Sound</th>\n",
       "      <th>S2_Sound</th>\n",
       "      <th>S3_Sound</th>\n",
       "      <th>S4_Sound</th>\n",
       "      <th>S5_CO2</th>\n",
       "      <th>S5_CO2_Slope</th>\n",
       "      <th>S6_PIR</th>\n",
       "      <th>S7_PIR</th>\n",
       "      <th>Room_Occupancy_Count</th>\n",
       "    </tr>\n",
       "  </thead>\n",
       "  <tbody>\n",
       "    <tr>\n",
       "      <th>0</th>\n",
       "      <td>2017/12/22</td>\n",
       "      <td>10:49:41</td>\n",
       "      <td>24.94</td>\n",
       "      <td>24.75</td>\n",
       "      <td>24.56</td>\n",
       "      <td>25.38</td>\n",
       "      <td>121</td>\n",
       "      <td>34</td>\n",
       "      <td>53</td>\n",
       "      <td>40</td>\n",
       "      <td>0.08</td>\n",
       "      <td>0.19</td>\n",
       "      <td>0.06</td>\n",
       "      <td>0.06</td>\n",
       "      <td>390</td>\n",
       "      <td>0.769231</td>\n",
       "      <td>0</td>\n",
       "      <td>0</td>\n",
       "      <td>1</td>\n",
       "    </tr>\n",
       "    <tr>\n",
       "      <th>1</th>\n",
       "      <td>2017/12/22</td>\n",
       "      <td>10:50:12</td>\n",
       "      <td>24.94</td>\n",
       "      <td>24.75</td>\n",
       "      <td>24.56</td>\n",
       "      <td>25.44</td>\n",
       "      <td>121</td>\n",
       "      <td>33</td>\n",
       "      <td>53</td>\n",
       "      <td>40</td>\n",
       "      <td>0.93</td>\n",
       "      <td>0.05</td>\n",
       "      <td>0.06</td>\n",
       "      <td>0.06</td>\n",
       "      <td>390</td>\n",
       "      <td>0.646154</td>\n",
       "      <td>0</td>\n",
       "      <td>0</td>\n",
       "      <td>1</td>\n",
       "    </tr>\n",
       "    <tr>\n",
       "      <th>2</th>\n",
       "      <td>2017/12/22</td>\n",
       "      <td>10:50:42</td>\n",
       "      <td>25.00</td>\n",
       "      <td>24.75</td>\n",
       "      <td>24.50</td>\n",
       "      <td>25.44</td>\n",
       "      <td>121</td>\n",
       "      <td>34</td>\n",
       "      <td>53</td>\n",
       "      <td>40</td>\n",
       "      <td>0.43</td>\n",
       "      <td>0.11</td>\n",
       "      <td>0.08</td>\n",
       "      <td>0.06</td>\n",
       "      <td>390</td>\n",
       "      <td>0.519231</td>\n",
       "      <td>0</td>\n",
       "      <td>0</td>\n",
       "      <td>1</td>\n",
       "    </tr>\n",
       "    <tr>\n",
       "      <th>3</th>\n",
       "      <td>2017/12/22</td>\n",
       "      <td>10:51:13</td>\n",
       "      <td>25.00</td>\n",
       "      <td>24.75</td>\n",
       "      <td>24.56</td>\n",
       "      <td>25.44</td>\n",
       "      <td>121</td>\n",
       "      <td>34</td>\n",
       "      <td>53</td>\n",
       "      <td>40</td>\n",
       "      <td>0.41</td>\n",
       "      <td>0.10</td>\n",
       "      <td>0.10</td>\n",
       "      <td>0.09</td>\n",
       "      <td>390</td>\n",
       "      <td>0.388462</td>\n",
       "      <td>0</td>\n",
       "      <td>0</td>\n",
       "      <td>1</td>\n",
       "    </tr>\n",
       "    <tr>\n",
       "      <th>4</th>\n",
       "      <td>2017/12/22</td>\n",
       "      <td>10:51:44</td>\n",
       "      <td>25.00</td>\n",
       "      <td>24.75</td>\n",
       "      <td>24.56</td>\n",
       "      <td>25.44</td>\n",
       "      <td>121</td>\n",
       "      <td>34</td>\n",
       "      <td>54</td>\n",
       "      <td>40</td>\n",
       "      <td>0.18</td>\n",
       "      <td>0.06</td>\n",
       "      <td>0.06</td>\n",
       "      <td>0.06</td>\n",
       "      <td>390</td>\n",
       "      <td>0.253846</td>\n",
       "      <td>0</td>\n",
       "      <td>0</td>\n",
       "      <td>1</td>\n",
       "    </tr>\n",
       "  </tbody>\n",
       "</table>\n",
       "</div>"
      ],
      "text/plain": [
       "         Date      Time  S1_Temp  S2_Temp  S3_Temp  S4_Temp  S1_Light  \\\n",
       "0  2017/12/22  10:49:41    24.94    24.75    24.56    25.38       121   \n",
       "1  2017/12/22  10:50:12    24.94    24.75    24.56    25.44       121   \n",
       "2  2017/12/22  10:50:42    25.00    24.75    24.50    25.44       121   \n",
       "3  2017/12/22  10:51:13    25.00    24.75    24.56    25.44       121   \n",
       "4  2017/12/22  10:51:44    25.00    24.75    24.56    25.44       121   \n",
       "\n",
       "   S2_Light  S3_Light  S4_Light  S1_Sound  S2_Sound  S3_Sound  S4_Sound  \\\n",
       "0        34        53        40      0.08      0.19      0.06      0.06   \n",
       "1        33        53        40      0.93      0.05      0.06      0.06   \n",
       "2        34        53        40      0.43      0.11      0.08      0.06   \n",
       "3        34        53        40      0.41      0.10      0.10      0.09   \n",
       "4        34        54        40      0.18      0.06      0.06      0.06   \n",
       "\n",
       "   S5_CO2  S5_CO2_Slope  S6_PIR  S7_PIR  Room_Occupancy_Count  \n",
       "0     390      0.769231       0       0                     1  \n",
       "1     390      0.646154       0       0                     1  \n",
       "2     390      0.519231       0       0                     1  \n",
       "3     390      0.388462       0       0                     1  \n",
       "4     390      0.253846       0       0                     1  "
      ]
     },
     "execution_count": 2,
     "metadata": {},
     "output_type": "execute_result"
    }
   ],
   "source": [
    "# Read the CSV file into a data frame called Occupancy\n",
    "Occupancy = pd.read_csv('Occupancy_Estimation.csv')\n",
    "\n",
    "# Display the first five records of the data frame\n",
    "Occupancy.head()"
   ]
  },
  {
   "cell_type": "code",
   "execution_count": 3,
   "metadata": {},
   "outputs": [
    {
     "name": "stdout",
     "output_type": "stream",
     "text": [
      "Column Names: Index(['Date', 'Time', 'S1_Temp', 'S2_Temp', 'S3_Temp', 'S4_Temp', 'S1_Light',\n",
      "       'S2_Light', 'S3_Light', 'S4_Light', 'S1_Sound', 'S2_Sound', 'S3_Sound',\n",
      "       'S4_Sound', 'S5_CO2', 'S5_CO2_Slope', 'S6_PIR', 'S7_PIR',\n",
      "       'Room_Occupancy_Count'],\n",
      "      dtype='object')\n"
     ]
    }
   ],
   "source": [
    "# Get the column names\n",
    "print(\"Column Names:\", Occupancy.columns)"
   ]
  },
  {
   "cell_type": "code",
   "execution_count": 4,
   "metadata": {},
   "outputs": [
    {
     "name": "stdout",
     "output_type": "stream",
     "text": [
      "\n",
      "Data Types of Each Column:\n",
      "Date                     object\n",
      "Time                     object\n",
      "S1_Temp                 float64\n",
      "S2_Temp                 float64\n",
      "S3_Temp                 float64\n",
      "S4_Temp                 float64\n",
      "S1_Light                  int64\n",
      "S2_Light                  int64\n",
      "S3_Light                  int64\n",
      "S4_Light                  int64\n",
      "S1_Sound                float64\n",
      "S2_Sound                float64\n",
      "S3_Sound                float64\n",
      "S4_Sound                float64\n",
      "S5_CO2                    int64\n",
      "S5_CO2_Slope            float64\n",
      "S6_PIR                    int64\n",
      "S7_PIR                    int64\n",
      "Room_Occupancy_Count      int64\n",
      "dtype: object\n"
     ]
    }
   ],
   "source": [
    "# Get the data types of each column\n",
    "print(\"\\nData Types of Each Column:\")\n",
    "print(Occupancy.dtypes)"
   ]
  },
  {
   "cell_type": "code",
   "execution_count": 5,
   "metadata": {},
   "outputs": [
    {
     "name": "stdout",
     "output_type": "stream",
     "text": [
      "Summary Statistics:\n",
      "            S1_Temp       S2_Temp       S3_Temp       S4_Temp      S1_Light  \\\n",
      "count  10129.000000  10129.000000  10129.000000  10129.000000  10129.000000   \n",
      "mean      25.454012     25.546059     25.056621     25.754125     25.445059   \n",
      "std        0.351351      0.586325      0.427283      0.356434     51.011264   \n",
      "min       24.940000     24.750000     24.440000     24.940000      0.000000   \n",
      "25%       25.190000     25.190000     24.690000     25.440000      0.000000   \n",
      "50%       25.380000     25.380000     24.940000     25.750000      0.000000   \n",
      "75%       25.630000     25.630000     25.380000     26.000000     12.000000   \n",
      "max       26.380000     29.000000     26.190000     26.560000    165.000000   \n",
      "\n",
      "          S2_Light      S3_Light      S4_Light      S1_Sound      S2_Sound  \\\n",
      "count  10129.00000  10129.000000  10129.000000  10129.000000  10129.000000   \n",
      "mean      26.01629     34.248494     13.220259      0.168178      0.120066   \n",
      "std       67.30417     58.400744     19.602219      0.316709      0.266503   \n",
      "min        0.00000      0.000000      0.000000      0.060000      0.040000   \n",
      "25%        0.00000      0.000000      0.000000      0.070000      0.050000   \n",
      "50%        0.00000      0.000000      0.000000      0.080000      0.050000   \n",
      "75%       14.00000     50.000000     22.000000      0.080000      0.060000   \n",
      "max      258.00000    280.000000     74.000000      3.880000      3.440000   \n",
      "\n",
      "           S3_Sound      S4_Sound        S5_CO2  S5_CO2_Slope        S6_PIR  \\\n",
      "count  10129.000000  10129.000000  10129.000000  10129.000000  10129.000000   \n",
      "mean       0.158119      0.103840    460.860401     -0.004830      0.090137   \n",
      "std        0.413637      0.120683    199.964940      1.164990      0.286392   \n",
      "min        0.040000      0.050000    345.000000     -6.296154      0.000000   \n",
      "25%        0.060000      0.060000    355.000000     -0.046154      0.000000   \n",
      "50%        0.060000      0.080000    360.000000      0.000000      0.000000   \n",
      "75%        0.070000      0.100000    465.000000      0.000000      0.000000   \n",
      "max        3.670000      3.400000   1270.000000      8.980769      1.000000   \n",
      "\n",
      "             S7_PIR  Room_Occupancy_Count  \n",
      "count  10129.000000          10129.000000  \n",
      "mean       0.079574              0.398559  \n",
      "std        0.270645              0.893633  \n",
      "min        0.000000              0.000000  \n",
      "25%        0.000000              0.000000  \n",
      "50%        0.000000              0.000000  \n",
      "75%        0.000000              0.000000  \n",
      "max        1.000000              3.000000  \n"
     ]
    }
   ],
   "source": [
    "# Get the summary statistics\n",
    "print(\"Summary Statistics:\")\n",
    "print(Occupancy.describe())"
   ]
  },
  {
   "cell_type": "markdown",
   "metadata": {},
   "source": [
    "**Fit a linear regression model to predict room occupancy based on the sensor data. Interpret the summary of the regression model and discuss the significance of the coefficients.**"
   ]
  },
  {
   "cell_type": "markdown",
   "metadata": {},
   "source": [
    "**Temperature data**"
   ]
  },
  {
   "cell_type": "code",
   "execution_count": 6,
   "metadata": {},
   "outputs": [],
   "source": [
    "# Separate independent variables (features) and dependent variable (target)\n",
    "X = Occupancy[['S1_Temp', 'S2_Temp', 'S3_Temp', 'S4_Temp']]\n",
    "\n",
    "y = Occupancy['Room_Occupancy_Count']"
   ]
  },
  {
   "cell_type": "code",
   "execution_count": 7,
   "metadata": {},
   "outputs": [
    {
     "name": "stdout",
     "output_type": "stream",
     "text": [
      "\n",
      "Regression Model Summary:\n",
      "                             OLS Regression Results                             \n",
      "================================================================================\n",
      "Dep. Variable:     Room_Occupancy_Count   R-squared:                       0.548\n",
      "Model:                              OLS   Adj. R-squared:                  0.548\n",
      "Method:                   Least Squares   F-statistic:                     3065.\n",
      "Date:                  Mon, 18 Nov 2024   Prob (F-statistic):               0.00\n",
      "Time:                          08:45:25   Log-Likelihood:                -9214.4\n",
      "No. Observations:                 10129   AIC:                         1.844e+04\n",
      "Df Residuals:                     10124   BIC:                         1.847e+04\n",
      "Df Model:                             4                                         \n",
      "Covariance Type:              nonrobust                                         \n",
      "==============================================================================\n",
      "                 coef    std err          t      P>|t|      [0.025      0.975]\n",
      "------------------------------------------------------------------------------\n",
      "const        -37.4029      0.545    -68.676      0.000     -38.471     -36.335\n",
      "S1_Temp        1.6245      0.058     28.030      0.000       1.511       1.738\n",
      "S2_Temp        0.4826      0.017     28.414      0.000       0.449       0.516\n",
      "S3_Temp        0.1581      0.050      3.187      0.001       0.061       0.255\n",
      "S4_Temp       -0.7703      0.036    -21.259      0.000      -0.841      -0.699\n",
      "==============================================================================\n",
      "Omnibus:                      676.716   Durbin-Watson:                   0.024\n",
      "Prob(Omnibus):                  0.000   Jarque-Bera (JB):             2074.352\n",
      "Skew:                           0.330   Prob(JB):                         0.00\n",
      "Kurtosis:                       5.116   Cond. No.                     4.66e+03\n",
      "==============================================================================\n",
      "\n",
      "Notes:\n",
      "[1] Standard Errors assume that the covariance matrix of the errors is correctly specified.\n",
      "[2] The condition number is large, 4.66e+03. This might indicate that there are\n",
      "strong multicollinearity or other numerical problems.\n"
     ]
    }
   ],
   "source": [
    "# Add constant term for intercept\n",
    "X = sm.add_constant(X)\n",
    "\n",
    "# Fit the linear regression model\n",
    "model = sm.OLS(y, X).fit()       # Ordinary Least Squares regression mode\n",
    "\n",
    "# Print the summary of the regression model\n",
    "print(\"\\nRegression Model Summary:\")\n",
    "\n",
    "print(model.summary())"
   ]
  },
  {
   "cell_type": "code",
   "execution_count": null,
   "metadata": {},
   "outputs": [],
   "source": [
    "# y = B0 + B1x1 + B2x2 + B3x3 + B4x4\n",
    "\n",
    "# y = -37.4029 + 1.6245*S1_Temp + 0.4826*S2_Temp + 0.1581*S3_Temp - 0.7703*S4_Temp"
   ]
  },
  {
   "cell_type": "code",
   "execution_count": 9,
   "metadata": {},
   "outputs": [],
   "source": [
    "# The R-squared value represents the proportion of variance in the dependent variable that is explained by the independent variables.\n",
    "# Using only temperature data, the R-squared values is 54.8%.\n",
    "\n",
    "## As the temperature values are highly correlated, the p-values and coefficients are not reliable (multicollinearity)."
   ]
  },
  {
   "cell_type": "markdown",
   "metadata": {},
   "source": [
    "**Light data**"
   ]
  },
  {
   "cell_type": "code",
   "execution_count": 10,
   "metadata": {},
   "outputs": [],
   "source": [
    "# Separate independent variables (features) and dependent variable (target)\n",
    "X = Occupancy[['S1_Light', 'S2_Light', 'S3_Light', 'S4_Light']]\n",
    "\n",
    "y = Occupancy['Room_Occupancy_Count']"
   ]
  },
  {
   "cell_type": "code",
   "execution_count": 12,
   "metadata": {},
   "outputs": [
    {
     "name": "stdout",
     "output_type": "stream",
     "text": [
      "\n",
      "Regression Model Summary:\n",
      "                             OLS Regression Results                             \n",
      "================================================================================\n",
      "Dep. Variable:     Room_Occupancy_Count   R-squared:                       0.792\n",
      "Model:                              OLS   Adj. R-squared:                  0.792\n",
      "Method:                   Least Squares   F-statistic:                     9660.\n",
      "Date:                  Mon, 18 Nov 2024   Prob (F-statistic):               0.00\n",
      "Time:                          08:46:46   Log-Likelihood:                -5270.8\n",
      "No. Observations:                 10129   AIC:                         1.055e+04\n",
      "Df Residuals:                     10124   BIC:                         1.059e+04\n",
      "Df Model:                             4                                         \n",
      "Covariance Type:              nonrobust                                         \n",
      "==============================================================================\n",
      "                 coef    std err          t      P>|t|      [0.025      0.975]\n",
      "------------------------------------------------------------------------------\n",
      "const          0.0410      0.005      8.213      0.000       0.031       0.051\n",
      "S1_Light       0.0076      0.000     42.262      0.000       0.007       0.008\n",
      "S2_Light       0.0032      0.000     29.014      0.000       0.003       0.003\n",
      "S3_Light       0.0058      0.000     45.737      0.000       0.006       0.006\n",
      "S4_Light      -0.0091      0.000    -35.600      0.000      -0.010      -0.009\n",
      "==============================================================================\n",
      "Omnibus:                    11938.337   Durbin-Watson:                   0.027\n",
      "Prob(Omnibus):                  0.000   Jarque-Bera (JB):           891658.220\n",
      "Skew:                           6.515   Prob(JB):                         0.00\n",
      "Kurtosis:                      47.079   Cond. No.                         134.\n",
      "==============================================================================\n",
      "\n",
      "Notes:\n",
      "[1] Standard Errors assume that the covariance matrix of the errors is correctly specified.\n"
     ]
    }
   ],
   "source": [
    "# Add constant term for intercept\n",
    "X = sm.add_constant(X)\n",
    "\n",
    "# Fit the linear regression model\n",
    "model = sm.OLS(y, X).fit()       # Ordinary Least Squares regression mode\n",
    "\n",
    "# Print the summary of the regression model\n",
    "print(\"\\nRegression Model Summary:\")\n",
    "\n",
    "print(model.summary())"
   ]
  },
  {
   "cell_type": "code",
   "execution_count": null,
   "metadata": {},
   "outputs": [],
   "source": [
    "# y = B0 + B1x1 + B2x2 + B3x3 + B4x4\n",
    "\n",
    "# y = 0.0410 + 0.0076*S1_Light + 0.0032*S2_Light + 0.0058*S3_Light - 0.0091*S4_Light"
   ]
  },
  {
   "cell_type": "code",
   "execution_count": 15,
   "metadata": {},
   "outputs": [],
   "source": [
    "# The R-squared value represents the proportion of variance in the dependent variable that is explained by the independent variables.\n",
    "# Using only light data, the R-squared values is 79.2%.\n",
    "\n",
    "## As the light values are highly correlated, the p-values and coefficients are not reliable (multicollinearity)."
   ]
  },
  {
   "cell_type": "markdown",
   "metadata": {},
   "source": [
    "**Sound data**"
   ]
  },
  {
   "cell_type": "code",
   "execution_count": null,
   "metadata": {},
   "outputs": [],
   "source": [
    "# Separate independent variables (features) and dependent variable (target)\n",
    "X = Occupancy[['S1_Sound', 'S2_Sound', 'S3_Sound', 'S4_Sound']]\n",
    "\n",
    "y = Occupancy['Room_Occupancy_Count']"
   ]
  },
  {
   "cell_type": "code",
   "execution_count": 17,
   "metadata": {},
   "outputs": [
    {
     "name": "stdout",
     "output_type": "stream",
     "text": [
      "\n",
      "Regression Model Summary:\n",
      "                             OLS Regression Results                             \n",
      "================================================================================\n",
      "Dep. Variable:     Room_Occupancy_Count   R-squared:                       0.444\n",
      "Model:                              OLS   Adj. R-squared:                  0.444\n",
      "Method:                   Least Squares   F-statistic:                     2022.\n",
      "Date:                  Mon, 18 Nov 2024   Prob (F-statistic):               0.00\n",
      "Time:                          08:47:17   Log-Likelihood:                -10259.\n",
      "No. Observations:                 10129   AIC:                         2.053e+04\n",
      "Df Residuals:                     10124   BIC:                         2.056e+04\n",
      "Df Model:                             4                                         \n",
      "Covariance Type:              nonrobust                                         \n",
      "==============================================================================\n",
      "                 coef    std err          t      P>|t|      [0.025      0.975]\n",
      "------------------------------------------------------------------------------\n",
      "const          0.0909      0.009     10.081      0.000       0.073       0.109\n",
      "S1_Sound       0.8700      0.027     31.714      0.000       0.816       0.924\n",
      "S2_Sound       0.9411      0.033     28.645      0.000       0.877       1.006\n",
      "S3_Sound       0.5396      0.023     23.145      0.000       0.494       0.585\n",
      "S4_Sound      -0.3559      0.083     -4.286      0.000      -0.519      -0.193\n",
      "==============================================================================\n",
      "Omnibus:                     4347.895   Durbin-Watson:                   0.579\n",
      "Prob(Omnibus):                  0.000   Jarque-Bera (JB):            48931.039\n",
      "Skew:                           1.751   Prob(JB):                         0.00\n",
      "Kurtosis:                      13.182   Cond. No.                         13.4\n",
      "==============================================================================\n",
      "\n",
      "Notes:\n",
      "[1] Standard Errors assume that the covariance matrix of the errors is correctly specified.\n"
     ]
    }
   ],
   "source": [
    "# Add constant term for intercept\n",
    "X = sm.add_constant(X)\n",
    "\n",
    "# Fit the linear regression model\n",
    "model = sm.OLS(y, X).fit()       # Ordinary Least Squares regression mode\n",
    "\n",
    "# Print the summary of the regression model\n",
    "print(\"\\nRegression Model Summary:\")\n",
    "\n",
    "print(model.summary())"
   ]
  },
  {
   "cell_type": "code",
   "execution_count": null,
   "metadata": {},
   "outputs": [],
   "source": [
    "# y = B0 + B1x1 + B2x2 + B3x3 + B4x4\n",
    "\n",
    "# y = 0.0909 + 0.8700*S1_Sound + 0.9411*S2_Sound + 0.5396*S3_Sound - 0.3559*S4_Sound"
   ]
  },
  {
   "cell_type": "code",
   "execution_count": 20,
   "metadata": {},
   "outputs": [],
   "source": [
    "# The R-squared value represents the proportion of variance in the dependent variable that is explained by the independent variables.\n",
    "# Using only sound data, the R-squared values is 44.4%.\n",
    "\n",
    "## Since the t-test value of S1_Sound variable is 31.714 with p-value 0.000 which is less than\n",
    "## 0.05, we can conclude that the coefficient of S1_Sound is not zero. (highly significant)\n",
    "\n",
    "## Since the t-test value of S2_Sound variable is 28.645 with p-value 0.000 which is less than\n",
    "## 0.05, we can conclude that the coefficient of S2_Sound is not zero. (highly significant)\n",
    "\n",
    "## Since the t-test value of S3_Sound variable is 23.145 with p-value 0.000 which is less than\n",
    "## 0.05, we can conclude that the coefficient of S3_Sound is not zero. (highly significant)\n",
    "\n",
    "## Since the t-test value of S4_Sound variable is -4.286 with p-value 0.000 which is less than\n",
    "## 0.05, we can conclude that the coefficient of S4_Sound is not zero. (highly significant)"
   ]
  },
  {
   "cell_type": "markdown",
   "metadata": {},
   "source": [
    "**CO2 data**"
   ]
  },
  {
   "cell_type": "code",
   "execution_count": 21,
   "metadata": {},
   "outputs": [],
   "source": [
    "# Separate independent variables (features) and dependent variable (target)\n",
    "X = Occupancy[['S5_CO2', 'S5_CO2_Slope']]\n",
    "\n",
    "y = Occupancy['Room_Occupancy_Count']"
   ]
  },
  {
   "cell_type": "code",
   "execution_count": 22,
   "metadata": {},
   "outputs": [
    {
     "name": "stdout",
     "output_type": "stream",
     "text": [
      "\n",
      "Regression Model Summary:\n",
      "                             OLS Regression Results                             \n",
      "================================================================================\n",
      "Dep. Variable:     Room_Occupancy_Count   R-squared:                       0.746\n",
      "Model:                              OLS   Adj. R-squared:                  0.746\n",
      "Method:                   Least Squares   F-statistic:                 1.485e+04\n",
      "Date:                  Mon, 18 Nov 2024   Prob (F-statistic):               0.00\n",
      "Time:                          08:48:27   Log-Likelihood:                -6297.2\n",
      "No. Observations:                 10129   AIC:                         1.260e+04\n",
      "Df Residuals:                     10126   BIC:                         1.262e+04\n",
      "Df Model:                             2                                         \n",
      "Covariance Type:              nonrobust                                         \n",
      "================================================================================\n",
      "                   coef    std err          t      P>|t|      [0.025      0.975]\n",
      "--------------------------------------------------------------------------------\n",
      "const           -0.8794      0.011    -78.008      0.000      -0.902      -0.857\n",
      "S5_CO2           0.0028   2.24e-05    123.738      0.000       0.003       0.003\n",
      "S5_CO2_Slope     0.4281      0.004    111.109      0.000       0.421       0.436\n",
      "==============================================================================\n",
      "Omnibus:                     3584.042   Durbin-Watson:                   0.035\n",
      "Prob(Omnibus):                  0.000   Jarque-Bera (JB):            68227.506\n",
      "Skew:                           1.214   Prob(JB):                         0.00\n",
      "Kurtosis:                      15.480   Cond. No.                     1.27e+03\n",
      "==============================================================================\n",
      "\n",
      "Notes:\n",
      "[1] Standard Errors assume that the covariance matrix of the errors is correctly specified.\n",
      "[2] The condition number is large, 1.27e+03. This might indicate that there are\n",
      "strong multicollinearity or other numerical problems.\n"
     ]
    }
   ],
   "source": [
    "# Add constant term for intercept\n",
    "X = sm.add_constant(X)\n",
    "\n",
    "# Fit the linear regression model\n",
    "model = sm.OLS(y, X).fit()       # Ordinary Least Squares regression mode\n",
    "\n",
    "# Print the summary of the regression model\n",
    "print(\"\\nRegression Model Summary:\")\n",
    "\n",
    "print(model.summary())"
   ]
  },
  {
   "cell_type": "code",
   "execution_count": 23,
   "metadata": {},
   "outputs": [],
   "source": [
    "# y = B0 + B1x1 + B2x2\n",
    "\n",
    "# y = -0.8794 + 0.0028*S5_CO2 + 0.4281*S5_CO2_Slope"
   ]
  },
  {
   "cell_type": "code",
   "execution_count": 24,
   "metadata": {},
   "outputs": [],
   "source": [
    "# The R-squared value represents the proportion of variance in the dependent variable that is explained by the independent variables.\n",
    "# Using only CO2 data, the R-squared values is 74.6%.\n",
    "\n",
    "## As the CO2 slope data is derived from the C02 values, the p-values and coefficients are not reliable (multicollinearity)."
   ]
  },
  {
   "cell_type": "markdown",
   "metadata": {},
   "source": [
    "**CO2 Slope data**"
   ]
  },
  {
   "cell_type": "code",
   "execution_count": 25,
   "metadata": {},
   "outputs": [],
   "source": [
    "# Separate independent variables (features) and dependent variable (target)\n",
    "X = Occupancy[['S5_CO2_Slope']]\n",
    "\n",
    "y = Occupancy['Room_Occupancy_Count']"
   ]
  },
  {
   "cell_type": "code",
   "execution_count": 26,
   "metadata": {},
   "outputs": [
    {
     "name": "stdout",
     "output_type": "stream",
     "text": [
      "\n",
      "Regression Model Summary:\n",
      "                             OLS Regression Results                             \n",
      "================================================================================\n",
      "Dep. Variable:     Room_Occupancy_Count   R-squared:                       0.361\n",
      "Model:                              OLS   Adj. R-squared:                  0.361\n",
      "Method:                   Least Squares   F-statistic:                     5729.\n",
      "Date:                  Mon, 18 Nov 2024   Prob (F-statistic):               0.00\n",
      "Time:                          08:49:11   Log-Likelihood:                -10962.\n",
      "No. Observations:                 10129   AIC:                         2.193e+04\n",
      "Df Residuals:                     10127   BIC:                         2.194e+04\n",
      "Df Model:                             1                                         \n",
      "Covariance Type:              nonrobust                                         \n",
      "================================================================================\n",
      "                   coef    std err          t      P>|t|      [0.025      0.975]\n",
      "--------------------------------------------------------------------------------\n",
      "const            0.4008      0.007     56.477      0.000       0.387       0.415\n",
      "S5_CO2_Slope     0.4611      0.006     75.692      0.000       0.449       0.473\n",
      "==============================================================================\n",
      "Omnibus:                     2940.323   Durbin-Watson:                   0.014\n",
      "Prob(Omnibus):                  0.000   Jarque-Bera (JB):             6579.333\n",
      "Skew:                           1.697   Prob(JB):                         0.00\n",
      "Kurtosis:                       5.019   Cond. No.                         1.17\n",
      "==============================================================================\n",
      "\n",
      "Notes:\n",
      "[1] Standard Errors assume that the covariance matrix of the errors is correctly specified.\n"
     ]
    }
   ],
   "source": [
    "# Add constant term for intercept\n",
    "X = sm.add_constant(X)\n",
    "\n",
    "# Fit the linear regression model\n",
    "model = sm.OLS(y, X).fit()       # Ordinary Least Squares regression mode\n",
    "\n",
    "# Print the summary of the regression model\n",
    "print(\"\\nRegression Model Summary:\")\n",
    "\n",
    "print(model.summary())"
   ]
  },
  {
   "cell_type": "code",
   "execution_count": 27,
   "metadata": {},
   "outputs": [],
   "source": [
    "# y = B0 + B1x1\n",
    "\n",
    "# y = 0.4008 + 0.4611*S5_CO2_Slope"
   ]
  },
  {
   "cell_type": "markdown",
   "metadata": {},
   "source": [
    "This duplicates the results of the Mao et al. study, which found:\n",
    "- An intercept value of approximately 0.4008, indicating the expected value of Room_Occupancy_Count\n",
    "when S5_CO2_Slope is zero\n",
    "- Positive slope of approximately 0.4611, indicating that for each unit increase in S5_CO2_Slope we can\n",
    "anticipate an increase of approximately 0.4611 in Room_Occupancy_Count "
   ]
  },
  {
   "cell_type": "markdown",
   "metadata": {},
   "source": [
    "**Motion data**"
   ]
  },
  {
   "cell_type": "code",
   "execution_count": 28,
   "metadata": {},
   "outputs": [],
   "source": [
    "# Separate independent variables (features) and dependent variable (target)\n",
    "X = Occupancy[['S6_PIR', 'S6_PIR']]\n",
    "\n",
    "y = Occupancy['Room_Occupancy_Count']"
   ]
  },
  {
   "cell_type": "code",
   "execution_count": 29,
   "metadata": {},
   "outputs": [
    {
     "name": "stdout",
     "output_type": "stream",
     "text": [
      "\n",
      "Regression Model Summary:\n",
      "                             OLS Regression Results                             \n",
      "================================================================================\n",
      "Dep. Variable:     Room_Occupancy_Count   R-squared:                       0.401\n",
      "Model:                              OLS   Adj. R-squared:                  0.401\n",
      "Method:                   Least Squares   F-statistic:                     3386.\n",
      "Date:                  Mon, 18 Nov 2024   Prob (F-statistic):               0.00\n",
      "Time:                          08:49:41   Log-Likelihood:                -10639.\n",
      "No. Observations:                 10129   AIC:                         2.128e+04\n",
      "Df Residuals:                     10126   BIC:                         2.131e+04\n",
      "Df Model:                             2                                         \n",
      "Covariance Type:              nonrobust                                         \n",
      "==============================================================================\n",
      "                 coef    std err          t      P>|t|      [0.025      0.975]\n",
      "------------------------------------------------------------------------------\n",
      "const          0.2181      0.008     28.961      0.000       0.203       0.233\n",
      "S6_PIR      6.559e+11   5.88e+11      1.116      0.265   -4.96e+11    1.81e+12\n",
      "S6_PIR     -6.559e+11   5.88e+11     -1.116      0.265   -1.81e+12    4.96e+11\n",
      "==============================================================================\n",
      "Omnibus:                     5456.298   Durbin-Watson:                   0.556\n",
      "Prob(Omnibus):                  0.000   Jarque-Bera (JB):            34439.342\n",
      "Skew:                           2.612   Prob(JB):                         0.00\n",
      "Kurtosis:                      10.370   Cond. No.                     1.22e+14\n",
      "==============================================================================\n",
      "\n",
      "Notes:\n",
      "[1] Standard Errors assume that the covariance matrix of the errors is correctly specified.\n",
      "[2] The smallest eigenvalue is 6.93e-25. This might indicate that there are\n",
      "strong multicollinearity problems or that the design matrix is singular.\n"
     ]
    }
   ],
   "source": [
    "# Add constant term for intercept\n",
    "X = sm.add_constant(X)\n",
    "\n",
    "# Fit the linear regression model\n",
    "model = sm.OLS(y, X).fit()       # Ordinary Least Squares regression mode\n",
    "\n",
    "# Print the summary of the regression model\n",
    "print(\"\\nRegression Model Summary:\")\n",
    "\n",
    "print(model.summary())"
   ]
  },
  {
   "cell_type": "code",
   "execution_count": null,
   "metadata": {},
   "outputs": [],
   "source": [
    "# y = B0 + B1x1 + B2x2\n",
    "\n",
    "# y = 0.2181 + 6.559e+11*S6_PIR - 6.559e+11*S7_PIR"
   ]
  },
  {
   "cell_type": "code",
   "execution_count": 31,
   "metadata": {},
   "outputs": [],
   "source": [
    "# The R-squared value represents the proportion of variance in the dependent variable that is explained by the independent variables.\n",
    "# Using only motion data, the R-squared values is 40.1%.\n",
    "\n",
    "## As the motion values are highly correlated, the p-values and coefficients are not reliable (multicollinearity).)"
   ]
  },
  {
   "cell_type": "markdown",
   "metadata": {},
   "source": [
    "Based on the linear regression analysis, light data has the highest R-squared value at 79.2% followed by CO2 data at 74.6%. This is consistent with the results of the\n",
    "introductory paper, which found that light features performed the best overall and that the CO2 features had promising results."
   ]
  },
  {
   "cell_type": "markdown",
   "metadata": {},
   "source": [
    "**All features**"
   ]
  },
  {
   "cell_type": "code",
   "execution_count": 32,
   "metadata": {},
   "outputs": [],
   "source": [
    "# Separate independent variables (features) and dependent variable (target)\n",
    "X = Occupancy[['S1_Temp', 'S2_Temp', 'S3_Temp', 'S4_Temp',\n",
    "               'S1_Light', 'S2_Light', 'S3_Light', 'S4_Light',\n",
    "               'S1_Sound', 'S2_Sound', 'S3_Sound', 'S4_Sound',\n",
    "               'S5_CO2', 'S5_CO2_Slope', 'S6_PIR', 'S7_PIR']]\n",
    "\n",
    "y = Occupancy['Room_Occupancy_Count']"
   ]
  },
  {
   "cell_type": "code",
   "execution_count": 33,
   "metadata": {},
   "outputs": [
    {
     "name": "stdout",
     "output_type": "stream",
     "text": [
      "\n",
      "Regression Model Summary:\n",
      "                             OLS Regression Results                             \n",
      "================================================================================\n",
      "Dep. Variable:     Room_Occupancy_Count   R-squared:                       0.894\n",
      "Model:                              OLS   Adj. R-squared:                  0.894\n",
      "Method:                   Least Squares   F-statistic:                     5318.\n",
      "Date:                  Mon, 18 Nov 2024   Prob (F-statistic):               0.00\n",
      "Time:                          08:50:15   Log-Likelihood:                -1877.0\n",
      "No. Observations:                 10129   AIC:                             3788.\n",
      "Df Residuals:                     10112   BIC:                             3911.\n",
      "Df Model:                            16                                         \n",
      "Covariance Type:              nonrobust                                         \n",
      "================================================================================\n",
      "                   coef    std err          t      P>|t|      [0.025      0.975]\n",
      "--------------------------------------------------------------------------------\n",
      "const           -8.0051      0.523    -15.305      0.000      -9.030      -6.980\n",
      "S1_Temp          0.1335      0.045      2.981      0.003       0.046       0.221\n",
      "S2_Temp          0.1166      0.010     11.690      0.000       0.097       0.136\n",
      "S3_Temp          0.7861      0.029     27.003      0.000       0.729       0.843\n",
      "S4_Temp         -0.6959      0.021    -33.853      0.000      -0.736      -0.656\n",
      "S1_Light         0.0054      0.000     30.039      0.000       0.005       0.006\n",
      "S2_Light         0.0009   9.76e-05      9.153      0.000       0.001       0.001\n",
      "S3_Light         0.0026      0.000     20.900      0.000       0.002       0.003\n",
      "S4_Light        -0.0040      0.000    -15.440      0.000      -0.005      -0.004\n",
      "S1_Sound         0.1009      0.013      7.642      0.000       0.075       0.127\n",
      "S2_Sound         0.1957      0.016     12.104      0.000       0.164       0.227\n",
      "S3_Sound        -0.0763      0.011     -6.696      0.000      -0.099      -0.054\n",
      "S4_Sound        -0.3485      0.037     -9.495      0.000      -0.420      -0.277\n",
      "S5_CO2         3.42e-05   3.77e-05      0.908      0.364   -3.97e-05       0.000\n",
      "S5_CO2_Slope     0.1896      0.003     54.789      0.000       0.183       0.196\n",
      "S6_PIR           0.1800      0.014     12.640      0.000       0.152       0.208\n",
      "S7_PIR           0.4139      0.016     25.990      0.000       0.383       0.445\n",
      "==============================================================================\n",
      "Omnibus:                     5303.628   Durbin-Watson:                   0.220\n",
      "Prob(Omnibus):                  0.000   Jarque-Bera (JB):           116818.404\n",
      "Skew:                           2.034   Prob(JB):                         0.00\n",
      "Kurtosis:                      19.132   Cond. No.                     9.23e+04\n",
      "==============================================================================\n",
      "\n",
      "Notes:\n",
      "[1] Standard Errors assume that the covariance matrix of the errors is correctly specified.\n",
      "[2] The condition number is large, 9.23e+04. This might indicate that there are\n",
      "strong multicollinearity or other numerical problems.\n"
     ]
    }
   ],
   "source": [
    "# Add constant term for intercept\n",
    "X = sm.add_constant(X)\n",
    "\n",
    "# Fit the linear regression model\n",
    "model = sm.OLS(y, X).fit()       # Ordinary Least Squares regression mode\n",
    "\n",
    "# Print the summary of the regression model\n",
    "print(\"\\nRegression Model Summary:\")\n",
    "\n",
    "print(model.summary())"
   ]
  },
  {
   "cell_type": "code",
   "execution_count": 34,
   "metadata": {},
   "outputs": [],
   "source": [
    "# y = B0 + B1x1 + B2x2 + B3x3 + B4x4 + B5x5 + B6x6 + B7x7 + B8x8 + B9x9 + B10x10 + B11x11 + B12x12 + B13x13 + B14x14 + B15x16 + B16x16  \n",
    "\n",
    "# y = -8.0051 + 0.1335*S1_Temp + 0.1166*S2_Temp + 0.7861*S3_Temp - 0.6959*S4_Temp + 0.0054*S1_Light + 0.0009*S2_Light + 0.0026*S3_Light -\n",
    "# 0.0040*S4_Light + 0.1009*S1_Sound + 0.1957*S2_Sound - 0.0763*S3_Sound - 0.3485*S4_Sound + 3.42e-05*S5_CO2 + 0.1896*S5_CO2_Slope +\n",
    "# 0.1800*S6_PIR + 0.4139*S7_PIR"
   ]
  },
  {
   "cell_type": "code",
   "execution_count": 35,
   "metadata": {},
   "outputs": [],
   "source": [
    "# The R-squared value represents the proportion of variance in the dependent variable that is explained by the independent variables.\n",
    "# Using all sensor data, the R-squared value is 89.4%."
   ]
  },
  {
   "cell_type": "markdown",
   "metadata": {},
   "source": [
    "As expected, using all sensor data provided the best model fit, with an R-squared value of 89.4%.\n",
    "\n",
    "The results suggest that the S5_CO2 value can be dropped since it's p-value is greater than 0.05."
   ]
  },
  {
   "cell_type": "markdown",
   "metadata": {},
   "source": [
    "**All features except S5_CO2**"
   ]
  },
  {
   "cell_type": "code",
   "execution_count": 36,
   "metadata": {},
   "outputs": [],
   "source": [
    "# Separate independent variables (features) and dependent variable (target)\n",
    "X = Occupancy[['S1_Temp', 'S2_Temp', 'S3_Temp', 'S4_Temp',\n",
    "               'S1_Light', 'S2_Light', 'S3_Light', 'S4_Light',\n",
    "               'S1_Sound', 'S2_Sound', 'S3_Sound', 'S4_Sound',\n",
    "               'S5_CO2_Slope', 'S6_PIR', 'S7_PIR']]\n",
    "\n",
    "y = Occupancy['Room_Occupancy_Count']"
   ]
  },
  {
   "cell_type": "code",
   "execution_count": 37,
   "metadata": {},
   "outputs": [
    {
     "name": "stdout",
     "output_type": "stream",
     "text": [
      "\n",
      "Regression Model Summary:\n",
      "                             OLS Regression Results                             \n",
      "================================================================================\n",
      "Dep. Variable:     Room_Occupancy_Count   R-squared:                       0.894\n",
      "Model:                              OLS   Adj. R-squared:                  0.894\n",
      "Method:                   Least Squares   F-statistic:                     5672.\n",
      "Date:                  Mon, 18 Nov 2024   Prob (F-statistic):               0.00\n",
      "Time:                          08:55:29   Log-Likelihood:                -1877.4\n",
      "No. Observations:                 10129   AIC:                             3787.\n",
      "Df Residuals:                     10113   BIC:                             3902.\n",
      "Df Model:                            15                                         \n",
      "Covariance Type:              nonrobust                                         \n",
      "================================================================================\n",
      "                   coef    std err          t      P>|t|      [0.025      0.975]\n",
      "--------------------------------------------------------------------------------\n",
      "const           -8.2999      0.410    -20.239      0.000      -9.104      -7.496\n",
      "S1_Temp          0.1488      0.042      3.584      0.000       0.067       0.230\n",
      "S2_Temp          0.1178      0.010     11.920      0.000       0.098       0.137\n",
      "S3_Temp          0.7881      0.029     27.148      0.000       0.731       0.845\n",
      "S4_Temp         -0.7021      0.019    -36.196      0.000      -0.740      -0.664\n",
      "S1_Light         0.0053      0.000     30.375      0.000       0.005       0.006\n",
      "S2_Light         0.0009   9.38e-05      9.793      0.000       0.001       0.001\n",
      "S3_Light         0.0026      0.000     22.929      0.000       0.002       0.003\n",
      "S4_Light        -0.0041      0.000    -15.937      0.000      -0.005      -0.004\n",
      "S1_Sound         0.1015      0.013      7.696      0.000       0.076       0.127\n",
      "S2_Sound         0.1948      0.016     12.071      0.000       0.163       0.226\n",
      "S3_Sound        -0.0761      0.011     -6.673      0.000      -0.098      -0.054\n",
      "S4_Sound        -0.3502      0.037     -9.553      0.000      -0.422      -0.278\n",
      "S5_CO2_Slope     0.1886      0.003     57.505      0.000       0.182       0.195\n",
      "S6_PIR           0.1799      0.014     12.634      0.000       0.152       0.208\n",
      "S7_PIR           0.4137      0.016     25.982      0.000       0.383       0.445\n",
      "==============================================================================\n",
      "Omnibus:                     5291.972   Durbin-Watson:                   0.220\n",
      "Prob(Omnibus):                  0.000   Jarque-Bera (JB):           115325.115\n",
      "Skew:                           2.031   Prob(JB):                         0.00\n",
      "Kurtosis:                      19.024   Cond. No.                     1.58e+04\n",
      "==============================================================================\n",
      "\n",
      "Notes:\n",
      "[1] Standard Errors assume that the covariance matrix of the errors is correctly specified.\n",
      "[2] The condition number is large, 1.58e+04. This might indicate that there are\n",
      "strong multicollinearity or other numerical problems.\n"
     ]
    }
   ],
   "source": [
    "# Add constant term for intercept\n",
    "X = sm.add_constant(X)\n",
    "\n",
    "# Fit the linear regression model\n",
    "model = sm.OLS(y, X).fit()       # Ordinary Least Squares regression mode\n",
    "\n",
    "# Print the summary of the regression model\n",
    "print(\"\\nRegression Model Summary:\")\n",
    "\n",
    "print(model.summary())"
   ]
  }
 ],
 "metadata": {
  "kernelspec": {
   "display_name": "Python 3",
   "language": "python",
   "name": "python3"
  },
  "language_info": {
   "codemirror_mode": {
    "name": "ipython",
    "version": 3
   },
   "file_extension": ".py",
   "mimetype": "text/x-python",
   "name": "python",
   "nbconvert_exporter": "python",
   "pygments_lexer": "ipython3",
   "version": "3.12.1"
  }
 },
 "nbformat": 4,
 "nbformat_minor": 4
}
